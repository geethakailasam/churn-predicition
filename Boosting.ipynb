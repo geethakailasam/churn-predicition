{
 "cells": [
  {
   "cell_type": "code",
   "execution_count": 1,
   "metadata": {},
   "outputs": [],
   "source": [
    "import numpy as np\n",
    "import pandas as pd\n",
    "import seaborn as sns\n",
    "import matplotlib.pyplot as plt\n",
    "import warnings \n",
    "warnings.filterwarnings(\"ignore\")\n",
    "from sklearn.preprocessing import StandardScaler\n",
    "from sklearn.model_selection import train_test_split\n",
    "from sklearn.ensemble import AdaBoostClassifier\n",
    "from sklearn.metrics import classification_report\n",
    "from sklearn.metrics import accuracy_score,precision_score,recall_score,f1_score,confusion_matrix\n",
    "from sklearn.model_selection import GridSearchCV,cross_val_score\n",
    "from sklearn.feature_selection import RFE\n",
    "from mlxtend.feature_selection import SequentialFeatureSelector as sfs"
   ]
  },
  {
   "cell_type": "code",
   "execution_count": 2,
   "metadata": {},
   "outputs": [
    {
     "data": {
      "text/html": [
       "<div>\n",
       "<style scoped>\n",
       "    .dataframe tbody tr th:only-of-type {\n",
       "        vertical-align: middle;\n",
       "    }\n",
       "\n",
       "    .dataframe tbody tr th {\n",
       "        vertical-align: top;\n",
       "    }\n",
       "\n",
       "    .dataframe thead th {\n",
       "        text-align: right;\n",
       "    }\n",
       "</style>\n",
       "<table border=\"1\" class=\"dataframe\">\n",
       "  <thead>\n",
       "    <tr style=\"text-align: right;\">\n",
       "      <th></th>\n",
       "      <th>custid</th>\n",
       "      <th>retained</th>\n",
       "      <th>created</th>\n",
       "      <th>firstorder</th>\n",
       "      <th>lastorder</th>\n",
       "      <th>esent</th>\n",
       "      <th>eopenrate</th>\n",
       "      <th>eclickrate</th>\n",
       "      <th>avgorder</th>\n",
       "      <th>ordfreq</th>\n",
       "      <th>paperless</th>\n",
       "      <th>refill</th>\n",
       "      <th>doorstep</th>\n",
       "      <th>favday</th>\n",
       "      <th>city</th>\n",
       "    </tr>\n",
       "  </thead>\n",
       "  <tbody>\n",
       "    <tr>\n",
       "      <th>0</th>\n",
       "      <td>6H6T6N</td>\n",
       "      <td>0</td>\n",
       "      <td>2012-09-28</td>\n",
       "      <td>2013-08-11 00:00:00</td>\n",
       "      <td>2013-08-11 00:00:00</td>\n",
       "      <td>29</td>\n",
       "      <td>100.000000</td>\n",
       "      <td>3.448276</td>\n",
       "      <td>14.52</td>\n",
       "      <td>0.000000</td>\n",
       "      <td>0</td>\n",
       "      <td>0</td>\n",
       "      <td>0</td>\n",
       "      <td>Monday</td>\n",
       "      <td>DEL</td>\n",
       "    </tr>\n",
       "    <tr>\n",
       "      <th>1</th>\n",
       "      <td>APCENR</td>\n",
       "      <td>1</td>\n",
       "      <td>2010-12-19</td>\n",
       "      <td>2011-04-01 00:00:00</td>\n",
       "      <td>2014-01-19 00:00:00</td>\n",
       "      <td>95</td>\n",
       "      <td>92.631579</td>\n",
       "      <td>10.526316</td>\n",
       "      <td>83.69</td>\n",
       "      <td>0.181641</td>\n",
       "      <td>1</td>\n",
       "      <td>1</td>\n",
       "      <td>1</td>\n",
       "      <td>Friday</td>\n",
       "      <td>DEL</td>\n",
       "    </tr>\n",
       "    <tr>\n",
       "      <th>2</th>\n",
       "      <td>7UP6MS</td>\n",
       "      <td>0</td>\n",
       "      <td>2010-10-03</td>\n",
       "      <td>2010-12-01 00:00:00</td>\n",
       "      <td>2011-07-06 00:00:00</td>\n",
       "      <td>0</td>\n",
       "      <td>0.000000</td>\n",
       "      <td>0.000000</td>\n",
       "      <td>33.58</td>\n",
       "      <td>0.059908</td>\n",
       "      <td>0</td>\n",
       "      <td>0</td>\n",
       "      <td>0</td>\n",
       "      <td>Wednesday</td>\n",
       "      <td>DEL</td>\n",
       "    </tr>\n",
       "    <tr>\n",
       "      <th>3</th>\n",
       "      <td>7ZEW8G</td>\n",
       "      <td>0</td>\n",
       "      <td>2010-10-22</td>\n",
       "      <td>2011-03-28 00:00:00</td>\n",
       "      <td>2011-03-28 00:00:00</td>\n",
       "      <td>0</td>\n",
       "      <td>0.000000</td>\n",
       "      <td>0.000000</td>\n",
       "      <td>54.96</td>\n",
       "      <td>0.000000</td>\n",
       "      <td>0</td>\n",
       "      <td>0</td>\n",
       "      <td>0</td>\n",
       "      <td>Thursday</td>\n",
       "      <td>BOM</td>\n",
       "    </tr>\n",
       "    <tr>\n",
       "      <th>4</th>\n",
       "      <td>8V726M</td>\n",
       "      <td>1</td>\n",
       "      <td>2010-11-27</td>\n",
       "      <td>2010-11-29 00:00:00</td>\n",
       "      <td>2013-01-28 00:00:00</td>\n",
       "      <td>30</td>\n",
       "      <td>90.000000</td>\n",
       "      <td>13.333333</td>\n",
       "      <td>111.91</td>\n",
       "      <td>0.008850</td>\n",
       "      <td>0</td>\n",
       "      <td>0</td>\n",
       "      <td>0</td>\n",
       "      <td>Monday</td>\n",
       "      <td>BOM</td>\n",
       "    </tr>\n",
       "  </tbody>\n",
       "</table>\n",
       "</div>"
      ],
      "text/plain": [
       "   custid  retained    created           firstorder            lastorder  \\\n",
       "0  6H6T6N         0 2012-09-28  2013-08-11 00:00:00  2013-08-11 00:00:00   \n",
       "1  APCENR         1 2010-12-19  2011-04-01 00:00:00  2014-01-19 00:00:00   \n",
       "2  7UP6MS         0 2010-10-03  2010-12-01 00:00:00  2011-07-06 00:00:00   \n",
       "3  7ZEW8G         0 2010-10-22  2011-03-28 00:00:00  2011-03-28 00:00:00   \n",
       "4  8V726M         1 2010-11-27  2010-11-29 00:00:00  2013-01-28 00:00:00   \n",
       "\n",
       "   esent   eopenrate  eclickrate  avgorder   ordfreq  paperless  refill  \\\n",
       "0     29  100.000000    3.448276     14.52  0.000000          0       0   \n",
       "1     95   92.631579   10.526316     83.69  0.181641          1       1   \n",
       "2      0    0.000000    0.000000     33.58  0.059908          0       0   \n",
       "3      0    0.000000    0.000000     54.96  0.000000          0       0   \n",
       "4     30   90.000000   13.333333    111.91  0.008850          0       0   \n",
       "\n",
       "   doorstep     favday city  \n",
       "0         0     Monday  DEL  \n",
       "1         1     Friday  DEL  \n",
       "2         0  Wednesday  DEL  \n",
       "3         0   Thursday  BOM  \n",
       "4         0     Monday  BOM  "
      ]
     },
     "execution_count": 2,
     "metadata": {},
     "output_type": "execute_result"
    }
   ],
   "source": [
    "df=pd.read_excel(\"storedata.xlsx\")\n",
    "df=df.drop(columns=['Unnamed: 0', 'index'],axis=1)\n",
    "df.head()"
   ]
  },
  {
   "cell_type": "code",
   "execution_count": 3,
   "metadata": {},
   "outputs": [],
   "source": [
    "df['firstorder']= df.firstorder.astype('datetime64')\n",
    "df['lastorder'] = df.lastorder.astype('datetime64')"
   ]
  },
  {
   "cell_type": "code",
   "execution_count": 4,
   "metadata": {},
   "outputs": [],
   "source": [
    "df.set_index([\"custid\"],inplace=True)"
   ]
  },
  {
   "cell_type": "code",
   "execution_count": 5,
   "metadata": {},
   "outputs": [],
   "source": [
    "df=pd.concat((df.drop(columns=['city','favday'],axis=1),pd.get_dummies(df[['favday','city']],drop_first=True)),axis=1)"
   ]
  },
  {
   "cell_type": "code",
   "execution_count": 6,
   "metadata": {},
   "outputs": [],
   "source": [
    "x=df.drop([\"retained\",\"created\",\"firstorder\",\"lastorder\"],axis=1)\n",
    "y=df[\"retained\"]\n",
    "sc=StandardScaler()\n",
    "scaled=sc.fit_transform(x)\n",
    "xtrain,xtest,ytrain,ytest=train_test_split(scaled,y,test_size=0.3,random_state=2)"
   ]
  },
  {
   "cell_type": "code",
   "execution_count": 22,
   "metadata": {},
   "outputs": [
    {
     "data": {
      "text/plain": [
       "(30781, 21)"
      ]
     },
     "execution_count": 22,
     "metadata": {},
     "output_type": "execute_result"
    }
   ],
   "source": [
    "df.shape"
   ]
  },
  {
   "cell_type": "code",
   "execution_count": 23,
   "metadata": {},
   "outputs": [
    {
     "data": {
      "text/plain": [
       "AdaBoostClassifier(n_estimators=3500)"
      ]
     },
     "execution_count": 23,
     "metadata": {},
     "output_type": "execute_result"
    }
   ],
   "source": [
    "adaboost=AdaBoostClassifier(n_estimators=3500)\n",
    "adaboost.fit(xtrain,ytrain)"
   ]
  },
  {
   "cell_type": "code",
   "execution_count": 24,
   "metadata": {},
   "outputs": [
    {
     "name": "stdout",
     "output_type": "stream",
     "text": [
      "Classification report               precision    recall  f1-score   support\n",
      "\n",
      "           0       0.93      0.82      0.87      1917\n",
      "           1       0.95      0.98      0.97      7318\n",
      "\n",
      "    accuracy                           0.95      9235\n",
      "   macro avg       0.94      0.90      0.92      9235\n",
      "weighted avg       0.95      0.95      0.95      9235\n",
      "\n",
      "accuracy 0.9496480779642664\n",
      "precision [0.92705882 0.95474453]\n",
      "recall score [0.82211789 0.98305548]\n",
      "f1_score [0.87144042 0.96869319]\n"
     ]
    }
   ],
   "source": [
    "ypredfull=adaboost.predict(xtest)\n",
    "print(\"Classification report\",classification_report(ytest,ypredfull))\n",
    "print(\"accuracy\",accuracy_score(ytest,ypredfull))\n",
    "print(\"precision\",precision_score(ytest,ypredfull,average=None))\n",
    "print(\"recall score\",recall_score(ytest,ypredfull,average=None))\n",
    "print(\"f1_score\",f1_score(ytest,ypredfull,average=None))"
   ]
  },
  {
   "cell_type": "code",
   "execution_count": 48,
   "metadata": {},
   "outputs": [
    {
     "data": {
      "text/plain": [
       "AdaBoostClassifier(n_estimators=1000)"
      ]
     },
     "execution_count": 48,
     "metadata": {},
     "output_type": "execute_result"
    }
   ],
   "source": [
    "adaboost=AdaBoostClassifier(n_estimators=1000)\n",
    "adaboost.fit(xtrain,ytrain)"
   ]
  },
  {
   "cell_type": "code",
   "execution_count": 49,
   "metadata": {},
   "outputs": [
    {
     "name": "stdout",
     "output_type": "stream",
     "text": [
      "Classification report               precision    recall  f1-score   support\n",
      "\n",
      "           0       0.93      0.82      0.88      1917\n",
      "           1       0.96      0.98      0.97      7318\n",
      "\n",
      "    accuracy                           0.95      9235\n",
      "   macro avg       0.94      0.90      0.92      9235\n",
      "weighted avg       0.95      0.95      0.95      9235\n",
      "\n",
      "accuracy 0.9513806172171089\n",
      "precision [0.93483412 0.95508149]\n",
      "recall score [0.82316119 0.98496857]\n",
      "f1_score [0.87545076 0.96979482]\n"
     ]
    }
   ],
   "source": [
    "ypredfull=adaboost.predict(xtest)\n",
    "print(\"Classification report\",classification_report(ytest,ypredfull))\n",
    "print(\"accuracy\",accuracy_score(ytest,ypredfull))\n",
    "print(\"precision\",precision_score(ytest,ypredfull,average=None))\n",
    "print(\"recall score\",recall_score(ytest,ypredfull,average=None))\n",
    "print(\"f1_score\",f1_score(ytest,ypredfull,average=None))"
   ]
  },
  {
   "cell_type": "code",
   "execution_count": 25,
   "metadata": {},
   "outputs": [
    {
     "name": "stdout",
     "output_type": "stream",
     "text": [
      "specificity 0.8221178925404278\n",
      "sensitivity 0.9998610145934677\n",
      "misclassified percentage 3.753292361720808\n",
      "correctclassified percentage 96.24670763827919\n"
     ]
    }
   ],
   "source": [
    "cm=confusion_matrix(ytest,ypredfull)#3500 estimators\n",
    "TN=cm[0][0]\n",
    "TP=cm[1][1]\n",
    "FP=cm[0][1]\n",
    "FN=[1][0]\n",
    "total=TN+TP+FP+FN\n",
    "specificity=TN/(TN+FP)\n",
    "sensitivity=TP/(TP+FN)\n",
    "misclassified=((FP+FN)/total)*100\n",
    "correctclassified=((TP+TN)/total)*100\n",
    "print(\"specificity\",specificity)\n",
    "print(\"sensitivity\",sensitivity)\n",
    "print(\"misclassified percentage\",misclassified)\n",
    "print(\"correctclassified percentage\",correctclassified)"
   ]
  },
  {
   "cell_type": "code",
   "execution_count": 21,
   "metadata": {},
   "outputs": [
    {
     "name": "stdout",
     "output_type": "stream",
     "text": [
      "specificity 0.8231611893583725\n",
      "sensitivity 0.9998612845054793\n",
      "misclassified percentage 3.7256191102344944\n",
      "correctclassified percentage 96.27438088976551\n"
     ]
    }
   ],
   "source": [
    "cm=confusion_matrix(ytest,ypredfull)\n",
    "TN=cm[0][0]\n",
    "TP=cm[1][1]\n",
    "FP=cm[0][1]\n",
    "FN=[1][0]\n",
    "total=TN+TP+FP+FN\n",
    "specificity=TN/(TN+FP)\n",
    "sensitivity=TP/(TP+FN)\n",
    "misclassified=((FP+FN)/total)*100\n",
    "correctclassified=((TP+TN)/total)*100\n",
    "print(\"specificity\",specificity)\n",
    "print(\"sensitivity\",sensitivity)\n",
    "print(\"misclassified percentage\",misclassified)\n",
    "print(\"correctclassified percentage\",correctclassified)"
   ]
  },
  {
   "cell_type": "code",
   "execution_count": 30,
   "metadata": {},
   "outputs": [
    {
     "data": {
      "image/png": "[encoded data removed]",
      "text/plain": [
       "<Figure size 432x288 with 1 Axes>"
      ]
     },
     "metadata": {
      "needs_background": "light"
     },
     "output_type": "display_data"
    }
   ],
   "source": [
    "from sklearn import metrics\n",
    "from sklearn.metrics import roc_auc_score\n",
    "from sklearn.metrics import roc_curve\n",
    "fpr, tpr, thresholds = roc_curve(ytest, ypredfull)\n",
    "plt.plot([0, 1], [0, 1],'r--')\n",
    "plt.plot(fpr, tpr)\n",
    "\n",
    "plt.text(x = 0.02, y = 0.8, s = ('AUC Score:',round(metrics.roc_auc_score(ytest, ypredfull),4)))\n",
    "plt.grid(False)"
   ]
  },
  {
   "cell_type": "markdown",
   "metadata": {},
   "source": [
    "Hyper parameter tunning"
   ]
  },
  {
   "cell_type": "code",
   "execution_count": 8,
   "metadata": {},
   "outputs": [
    {
     "data": {
      "text/plain": [
       "{'learning_rate': 0.15, 'n_estimators': 350}"
      ]
     },
     "execution_count": 8,
     "metadata": {},
     "output_type": "execute_result"
    }
   ],
   "source": [
    "tunedparam=[{\"n_estimators\":[100, 120, 150, 200, 250, 300, 350],\n",
    "   \"learning_rate\":[0.1, 0.01, 0.001, 0.15, 0.015] }]\n",
    "adamodel=AdaBoostClassifier(random_state=5)\n",
    "adagrid=GridSearchCV(adamodel,tunedparam,cv=5)\n",
    "adagrid.fit(xtrain,ytrain)\n",
    "adagrid.best_params_"
   ]
  },
  {
   "cell_type": "code",
   "execution_count": 11,
   "metadata": {},
   "outputs": [
    {
     "data": {
      "text/plain": [
       "AdaBoostClassifier(learning_rate=0.15, n_estimators=350)"
      ]
     },
     "execution_count": 11,
     "metadata": {},
     "output_type": "execute_result"
    }
   ],
   "source": [
    "adaboost=AdaBoostClassifier(learning_rate=0.15,n_estimators=350)\n",
    "adaboost.fit(xtrain,ytrain)"
   ]
  },
  {
   "cell_type": "code",
   "execution_count": 12,
   "metadata": {},
   "outputs": [
    {
     "name": "stdout",
     "output_type": "stream",
     "text": [
      "Classification report               precision    recall  f1-score   support\n",
      "\n",
      "           0       0.95      0.81      0.87      1917\n",
      "           1       0.95      0.99      0.97      7318\n",
      "\n",
      "    accuracy                           0.95      9235\n",
      "   macro avg       0.95      0.90      0.92      9235\n",
      "weighted avg       0.95      0.95      0.95      9235\n",
      "\n",
      "accuracy 0.9502977801840823\n",
      "precision [0.94559902 0.95130938]\n",
      "recall score [0.80699009 0.98783821]\n",
      "f1_score [0.8708134  0.96922974]\n"
     ]
    }
   ],
   "source": [
    "ypredfull=adaboost.predict(xtest)\n",
    "print(\"Classification report\",classification_report(ytest,ypredfull))\n",
    "print(\"accuracy\",accuracy_score(ytest,ypredfull))\n",
    "print(\"precision\",precision_score(ytest,ypredfull,average=None))\n",
    "print(\"recall score\",recall_score(ytest,ypredfull,average=None))\n",
    "print(\"f1_score\",f1_score(ytest,ypredfull,average=None))"
   ]
  },
  {
   "cell_type": "code",
   "execution_count": 13,
   "metadata": {},
   "outputs": [
    {
     "name": "stdout",
     "output_type": "stream",
     "text": [
      "Feature: 0, Score: 0.32857\n",
      "Feature: 1, Score: 0.18857\n",
      "Feature: 2, Score: 0.05429\n",
      "Feature: 3, Score: 0.19714\n",
      "Feature: 4, Score: 0.13429\n",
      "Feature: 5, Score: 0.02571\n",
      "Feature: 6, Score: 0.02857\n",
      "Feature: 7, Score: 0.01429\n",
      "Feature: 8, Score: 0.00571\n",
      "Feature: 9, Score: 0.00000\n",
      "Feature: 10, Score: 0.02000\n",
      "Feature: 11, Score: 0.00000\n",
      "Feature: 12, Score: 0.00000\n",
      "Feature: 13, Score: 0.00000\n",
      "Feature: 14, Score: 0.00000\n",
      "Feature: 15, Score: 0.00000\n",
      "Feature: 16, Score: 0.00286\n"
     ]
    },
    {
     "data": {
      "image/png": "[encoded data removed]",
      "text/plain": [
       "<Figure size 432x288 with 1 Axes>"
      ]
     },
     "metadata": {
      "needs_background": "light"
     },
     "output_type": "display_data"
    }
   ],
   "source": [
    "importance = adaboost.feature_importances_\n",
    "# summarize feature importance\n",
    "for i,v in enumerate(importance):\n",
    "    print('Feature: %0d, Score: %.5f' % (i,v))\n",
    "# plot feature importance\n",
    "plt.bar([x for x in range(len(importance))], importance)\n",
    "plt.show()"
   ]
  },
  {
   "cell_type": "code",
   "execution_count": 52,
   "metadata": {},
   "outputs": [
    {
     "name": "stdout",
     "output_type": "stream",
     "text": [
      "specificity 0.8069900886802295\n",
      "sensitivity 0.9998616874135546\n",
      "misclassified percentage 4.05597463649284\n",
      "correctclassified percentage 95.94402536350715\n"
     ]
    }
   ],
   "source": [
    "cm=confusion_matrix(ytest,ypredfull)\n",
    "TN=cm[0][0]\n",
    "TP=cm[1][1]\n",
    "FP=cm[0][1]\n",
    "FN=[1][0]\n",
    "total=TN+TP+FP+FN\n",
    "specificity=TN/(TN+FP)\n",
    "sensitivity=TP/(TP+FN)\n",
    "misclassified=((FP+FN)/total)*100\n",
    "correctclassified=((TP+TN)/total)*100\n",
    "print(\"specificity\",specificity)\n",
    "print(\"sensitivity\",sensitivity)\n",
    "print(\"misclassified percentage\",misclassified)\n",
    "print(\"correctclassified percentage\",correctclassified)"
   ]
  },
  {
   "cell_type": "code",
   "execution_count": null,
   "metadata": {},
   "outputs": [],
   "source": []
  },
  {
   "cell_type": "markdown",
   "metadata": {},
   "source": [
    "# Stacking"
   ]
  },
  {
   "cell_type": "code",
   "execution_count": 32,
   "metadata": {},
   "outputs": [],
   "source": [
    "from sklearn.ensemble import StackingClassifier\n",
    "from sklearn.ensemble import AdaBoostClassifier\n",
    "from sklearn.ensemble import RandomForestClassifier\n",
    "from sklearn.tree import DecisionTreeClassifier\n",
    "from sklearn.ensemble import GradientBoostingClassifier\n",
    "from xgboost import XGBClassifier"
   ]
  },
  {
   "cell_type": "code",
   "execution_count": 33,
   "metadata": {},
   "outputs": [
    {
     "name": "stdout",
     "output_type": "stream",
     "text": [
      "[12:23:04] WARNING: C:/Users/Administrator/workspace/xgboost-win64_release_1.4.0/src/learner.cc:1095: Starting in XGBoost 1.3.0, the default evaluation metric used with the objective 'binary:logistic' was changed from 'error' to 'logloss'. Explicitly set eval_metric if you'd like to restore the old behavior.\n",
      "[12:23:38] WARNING: C:/Users/Administrator/workspace/xgboost-win64_release_1.4.0/src/learner.cc:1095: Starting in XGBoost 1.3.0, the default evaluation metric used with the objective 'binary:logistic' was changed from 'error' to 'logloss'. Explicitly set eval_metric if you'd like to restore the old behavior.\n",
      "[12:23:39] WARNING: C:/Users/Administrator/workspace/xgboost-win64_release_1.4.0/src/learner.cc:1095: Starting in XGBoost 1.3.0, the default evaluation metric used with the objective 'binary:logistic' was changed from 'error' to 'logloss'. Explicitly set eval_metric if you'd like to restore the old behavior.\n",
      "[12:23:41] WARNING: C:/Users/Administrator/workspace/xgboost-win64_release_1.4.0/src/learner.cc:1095: Starting in XGBoost 1.3.0, the default evaluation metric used with the objective 'binary:logistic' was changed from 'error' to 'logloss'. Explicitly set eval_metric if you'd like to restore the old behavior.\n",
      "[12:23:42] WARNING: C:/Users/Administrator/workspace/xgboost-win64_release_1.4.0/src/learner.cc:1095: Starting in XGBoost 1.3.0, the default evaluation metric used with the objective 'binary:logistic' was changed from 'error' to 'logloss'. Explicitly set eval_metric if you'd like to restore the old behavior.\n",
      "[12:23:43] WARNING: C:/Users/Administrator/workspace/xgboost-win64_release_1.4.0/src/learner.cc:1095: Starting in XGBoost 1.3.0, the default evaluation metric used with the objective 'binary:logistic' was changed from 'error' to 'logloss'. Explicitly set eval_metric if you'd like to restore the old behavior.\n",
      "roc auc score 0.9047546491789705\n",
      "              precision    recall  f1-score   support\n",
      "\n",
      "           0       0.95      0.82      0.88      1917\n",
      "           1       0.95      0.99      0.97      7318\n",
      "\n",
      "    accuracy                           0.95      9235\n",
      "   macro avg       0.95      0.90      0.93      9235\n",
      "weighted avg       0.95      0.95      0.95      9235\n",
      "\n"
     ]
    }
   ],
   "source": [
    "base=[(\"DecisionTree\",DecisionTreeClassifier()),\n",
    "     (\"RandomForest\",RandomForestClassifier()),\n",
    "     (\"GradientBoosting\",GradientBoostingClassifier()),\n",
    "     (\"XGBClassifier\",XGBClassifier())]\n",
    "stack=StackingClassifier(estimators=base,final_estimator=AdaBoostClassifier(random_state=5))\n",
    "stmodel=stack.fit(xtrain,ytrain)\n",
    "ypred=stmodel.predict(xtest)\n",
    "print(\"roc auc score\",roc_auc_score(ytest,ypred))\n",
    "print(classification_report(ytest,ypred))"
   ]
  },
  {
   "cell_type": "code",
   "execution_count": 38,
   "metadata": {},
   "outputs": [
    {
     "name": "stdout",
     "output_type": "stream",
     "text": [
      "[12:44:18] WARNING: C:/Users/Administrator/workspace/xgboost-win64_release_1.4.0/src/learner.cc:1095: Starting in XGBoost 1.3.0, the default evaluation metric used with the objective 'binary:logistic' was changed from 'error' to 'logloss'. Explicitly set eval_metric if you'd like to restore the old behavior.\n",
      "roc auc score 0.9018600636442423\n",
      "              precision    recall  f1-score   support\n",
      "\n",
      "           0       0.93      0.82      0.87      1917\n",
      "           1       0.95      0.98      0.97      7318\n",
      "\n",
      "    accuracy                           0.95      9235\n",
      "   macro avg       0.94      0.90      0.92      9235\n",
      "weighted avg       0.95      0.95      0.95      9235\n",
      "\n"
     ]
    }
   ],
   "source": [
    "base=[(\"DecisionTree\",DecisionTreeClassifier()),\n",
    "     (\"RandomForest\",RandomForestClassifier()),\n",
    "     (\"GradientBoosting\",GradientBoostingClassifier()),\n",
    "     (\"AdaBoostClassifier\",AdaBoostClassifier())]\n",
    "stack=StackingClassifier(estimators=base,final_estimator=XGBClassifier(random_state=5))\n",
    "stmodel=stack.fit(xtrain,ytrain)\n",
    "ypred=stmodel.predict(xtest)\n",
    "print(\"roc auc score\",roc_auc_score(ytest,ypred))\n",
    "print(classification_report(ytest,ypred))"
   ]
  },
  {
   "cell_type": "code",
   "execution_count": 39,
   "metadata": {},
   "outputs": [
    {
     "name": "stdout",
     "output_type": "stream",
     "text": [
      "Classification report               precision    recall  f1-score   support\n",
      "\n",
      "           0       0.93      0.82      0.87      1917\n",
      "           1       0.95      0.98      0.97      7318\n",
      "\n",
      "    accuracy                           0.95      9235\n",
      "   macro avg       0.94      0.90      0.92      9235\n",
      "weighted avg       0.95      0.95      0.95      9235\n",
      "\n",
      "accuracy 0.9491066594477531\n",
      "precision [0.92533804 0.95447306]\n",
      "recall score [0.8210746  0.98264553]\n",
      "f1_score [0.87009397 0.96835443]\n"
     ]
    }
   ],
   "source": [
    "print(\"Classification report\",classification_report(ytest,ypred))\n",
    "print(\"accuracy\",accuracy_score(ytest,ypred))\n",
    "print(\"precision\",precision_score(ytest,ypred,average=None))\n",
    "print(\"recall score\",recall_score(ytest,ypred,average=None))\n",
    "print(\"f1_score\",f1_score(ytest,ypred,average=None))"
   ]
  },
  {
   "cell_type": "code",
   "execution_count": 40,
   "metadata": {},
   "outputs": [
    {
     "name": "stdout",
     "output_type": "stream",
     "text": [
      "[12:45:23] WARNING: C:/Users/Administrator/workspace/xgboost-win64_release_1.4.0/src/learner.cc:1095: Starting in XGBoost 1.3.0, the default evaluation metric used with the objective 'binary:logistic' was changed from 'error' to 'logloss'. Explicitly set eval_metric if you'd like to restore the old behavior.\n",
      "[12:45:40] WARNING: C:/Users/Administrator/workspace/xgboost-win64_release_1.4.0/src/learner.cc:1095: Starting in XGBoost 1.3.0, the default evaluation metric used with the objective 'binary:logistic' was changed from 'error' to 'logloss'. Explicitly set eval_metric if you'd like to restore the old behavior.\n",
      "[12:45:41] WARNING: C:/Users/Administrator/workspace/xgboost-win64_release_1.4.0/src/learner.cc:1095: Starting in XGBoost 1.3.0, the default evaluation metric used with the objective 'binary:logistic' was changed from 'error' to 'logloss'. Explicitly set eval_metric if you'd like to restore the old behavior.\n",
      "[12:45:42] WARNING: C:/Users/Administrator/workspace/xgboost-win64_release_1.4.0/src/learner.cc:1095: Starting in XGBoost 1.3.0, the default evaluation metric used with the objective 'binary:logistic' was changed from 'error' to 'logloss'. Explicitly set eval_metric if you'd like to restore the old behavior.\n",
      "[12:45:43] WARNING: C:/Users/Administrator/workspace/xgboost-win64_release_1.4.0/src/learner.cc:1095: Starting in XGBoost 1.3.0, the default evaluation metric used with the objective 'binary:logistic' was changed from 'error' to 'logloss'. Explicitly set eval_metric if you'd like to restore the old behavior.\n",
      "[12:45:45] WARNING: C:/Users/Administrator/workspace/xgboost-win64_release_1.4.0/src/learner.cc:1095: Starting in XGBoost 1.3.0, the default evaluation metric used with the objective 'binary:logistic' was changed from 'error' to 'logloss'. Explicitly set eval_metric if you'd like to restore the old behavior.\n",
      "roc auc score 0.9075054927054049\n",
      "              precision    recall  f1-score   support\n",
      "\n",
      "           0       0.94      0.83      0.88      1917\n",
      "           1       0.96      0.99      0.97      7318\n",
      "\n",
      "    accuracy                           0.95      9235\n",
      "   macro avg       0.95      0.91      0.93      9235\n",
      "weighted avg       0.95      0.95      0.95      9235\n",
      "\n"
     ]
    }
   ],
   "source": [
    "base=[(\"DecisionTree\",DecisionTreeClassifier()),\n",
    "     (\"RandomForest\",RandomForestClassifier()),\n",
    "     (\"XGBClassifier\",XGBClassifier()),\n",
    "     (\"AdaBoostClassifier\",AdaBoostClassifier())]\n",
    "stack=StackingClassifier(estimators=base,final_estimator=GradientBoostingClassifier(random_state=5))\n",
    "stmodel=stack.fit(xtrain,ytrain)\n",
    "ypred=stmodel.predict(xtest)\n",
    "print(\"roc auc score\",roc_auc_score(ytest,ypred))\n",
    "print(classification_report(ytest,ypred))"
   ]
  },
  {
   "cell_type": "code",
   "execution_count": 41,
   "metadata": {},
   "outputs": [
    {
     "name": "stdout",
     "output_type": "stream",
     "text": [
      "Classification report               precision    recall  f1-score   support\n",
      "\n",
      "           0       0.94      0.83      0.88      1917\n",
      "           1       0.96      0.99      0.97      7318\n",
      "\n",
      "    accuracy                           0.95      9235\n",
      "   macro avg       0.95      0.91      0.93      9235\n",
      "weighted avg       0.95      0.95      0.95      9235\n",
      "\n",
      "accuracy 0.9540877097996752\n",
      "precision [0.9440809  0.95631454]\n",
      "recall score [0.82785603 0.98715496]\n",
      "f1_score [0.88215675 0.97149005]\n"
     ]
    }
   ],
   "source": [
    "print(\"Classification report\",classification_report(ytest,ypred))\n",
    "print(\"accuracy\",accuracy_score(ytest,ypred))\n",
    "print(\"precision\",precision_score(ytest,ypred,average=None))\n",
    "print(\"recall score\",recall_score(ytest,ypred,average=None))\n",
    "print(\"f1_score\",f1_score(ytest,ypred,average=None))"
   ]
  },
  {
   "cell_type": "code",
   "execution_count": 43,
   "metadata": {},
   "outputs": [
    {
     "name": "stdout",
     "output_type": "stream",
     "text": [
      "[12:49:18] WARNING: C:/Users/Administrator/workspace/xgboost-win64_release_1.4.0/src/learner.cc:1095: Starting in XGBoost 1.3.0, the default evaluation metric used with the objective 'binary:logistic' was changed from 'error' to 'logloss'. Explicitly set eval_metric if you'd like to restore the old behavior.\n",
      "[12:49:35] WARNING: C:/Users/Administrator/workspace/xgboost-win64_release_1.4.0/src/learner.cc:1095: Starting in XGBoost 1.3.0, the default evaluation metric used with the objective 'binary:logistic' was changed from 'error' to 'logloss'. Explicitly set eval_metric if you'd like to restore the old behavior.\n",
      "[12:49:36] WARNING: C:/Users/Administrator/workspace/xgboost-win64_release_1.4.0/src/learner.cc:1095: Starting in XGBoost 1.3.0, the default evaluation metric used with the objective 'binary:logistic' was changed from 'error' to 'logloss'. Explicitly set eval_metric if you'd like to restore the old behavior.\n",
      "[12:49:37] WARNING: C:/Users/Administrator/workspace/xgboost-win64_release_1.4.0/src/learner.cc:1095: Starting in XGBoost 1.3.0, the default evaluation metric used with the objective 'binary:logistic' was changed from 'error' to 'logloss'. Explicitly set eval_metric if you'd like to restore the old behavior.\n",
      "[12:49:38] WARNING: C:/Users/Administrator/workspace/xgboost-win64_release_1.4.0/src/learner.cc:1095: Starting in XGBoost 1.3.0, the default evaluation metric used with the objective 'binary:logistic' was changed from 'error' to 'logloss'. Explicitly set eval_metric if you'd like to restore the old behavior.\n",
      "[12:49:39] WARNING: C:/Users/Administrator/workspace/xgboost-win64_release_1.4.0/src/learner.cc:1095: Starting in XGBoost 1.3.0, the default evaluation metric used with the objective 'binary:logistic' was changed from 'error' to 'logloss'. Explicitly set eval_metric if you'd like to restore the old behavior.\n",
      "roc auc score 0.9108088857866562\n",
      "              precision    recall  f1-score   support\n",
      "\n",
      "           0       0.93      0.84      0.88      1917\n",
      "           1       0.96      0.98      0.97      7318\n",
      "\n",
      "    accuracy                           0.95      9235\n",
      "   macro avg       0.94      0.91      0.93      9235\n",
      "weighted avg       0.95      0.95      0.95      9235\n",
      "\n"
     ]
    }
   ],
   "source": [
    "base=[(\"DecisionTree\",DecisionTreeClassifier()),\n",
    "     (\"GradientBoostingClassifier\",RandomForestClassifier()),\n",
    "     (\"XGBClassifier\",XGBClassifier()),\n",
    "     (\"AdaBoostClassifier\",AdaBoostClassifier())]\n",
    "stack=StackingClassifier(estimators=base,final_estimator=RandomForestClassifier(random_state=5))\n",
    "stmodel=stack.fit(xtrain,ytrain)\n",
    "ypred=stmodel.predict(xtest)\n",
    "print(\"roc auc score\",roc_auc_score(ytest,ypred))\n",
    "print(classification_report(ytest,ypred))"
   ]
  },
  {
   "cell_type": "code",
   "execution_count": 44,
   "metadata": {},
   "outputs": [
    {
     "name": "stdout",
     "output_type": "stream",
     "text": [
      "Classification report               precision    recall  f1-score   support\n",
      "\n",
      "           0       0.93      0.84      0.88      1917\n",
      "           1       0.96      0.98      0.97      7318\n",
      "\n",
      "    accuracy                           0.95      9235\n",
      "   macro avg       0.94      0.91      0.93      9235\n",
      "weighted avg       0.95      0.95      0.95      9235\n",
      "\n",
      "accuracy 0.9532214401732539\n",
      "precision [0.92943898 0.95869971]\n",
      "recall score [0.83828899 0.98332878]\n",
      "f1_score [0.88151399 0.97085807]\n"
     ]
    }
   ],
   "source": [
    "print(\"Classification report\",classification_report(ytest,ypred))\n",
    "print(\"accuracy\",accuracy_score(ytest,ypred))\n",
    "print(\"precision\",precision_score(ytest,ypred,average=None))\n",
    "print(\"recall score\",recall_score(ytest,ypred,average=None))\n",
    "print(\"f1_score\",f1_score(ytest,ypred,average=None))"
   ]
  },
  {
   "cell_type": "code",
   "execution_count": 46,
   "metadata": {},
   "outputs": [
    {
     "name": "stdout",
     "output_type": "stream",
     "text": [
      "[12:59:49] WARNING: C:/Users/Administrator/workspace/xgboost-win64_release_1.4.0/src/learner.cc:1095: Starting in XGBoost 1.3.0, the default evaluation metric used with the objective 'binary:logistic' was changed from 'error' to 'logloss'. Explicitly set eval_metric if you'd like to restore the old behavior.\n",
      "[13:00:25] WARNING: C:/Users/Administrator/workspace/xgboost-win64_release_1.4.0/src/learner.cc:1095: Starting in XGBoost 1.3.0, the default evaluation metric used with the objective 'binary:logistic' was changed from 'error' to 'logloss'. Explicitly set eval_metric if you'd like to restore the old behavior.\n",
      "[13:00:27] WARNING: C:/Users/Administrator/workspace/xgboost-win64_release_1.4.0/src/learner.cc:1095: Starting in XGBoost 1.3.0, the default evaluation metric used with the objective 'binary:logistic' was changed from 'error' to 'logloss'. Explicitly set eval_metric if you'd like to restore the old behavior.\n",
      "[13:00:28] WARNING: C:/Users/Administrator/workspace/xgboost-win64_release_1.4.0/src/learner.cc:1095: Starting in XGBoost 1.3.0, the default evaluation metric used with the objective 'binary:logistic' was changed from 'error' to 'logloss'. Explicitly set eval_metric if you'd like to restore the old behavior.\n",
      "[13:00:29] WARNING: C:/Users/Administrator/workspace/xgboost-win64_release_1.4.0/src/learner.cc:1095: Starting in XGBoost 1.3.0, the default evaluation metric used with the objective 'binary:logistic' was changed from 'error' to 'logloss'. Explicitly set eval_metric if you'd like to restore the old behavior.\n",
      "[13:00:30] WARNING: C:/Users/Administrator/workspace/xgboost-win64_release_1.4.0/src/learner.cc:1095: Starting in XGBoost 1.3.0, the default evaluation metric used with the objective 'binary:logistic' was changed from 'error' to 'logloss'. Explicitly set eval_metric if you'd like to restore the old behavior.\n",
      "roc auc score 0.9020627566274225\n",
      "              precision    recall  f1-score   support\n",
      "\n",
      "           0       0.85      0.84      0.85      1917\n",
      "           1       0.96      0.96      0.96      7318\n",
      "\n",
      "    accuracy                           0.94      9235\n",
      "   macro avg       0.90      0.90      0.90      9235\n",
      "weighted avg       0.94      0.94      0.94      9235\n",
      "\n"
     ]
    }
   ],
   "source": [
    "base=[(\"GradientBoostingClassifier\",GradientBoostingClassifier()),\n",
    "     (\"RandomForest\",RandomForestClassifier()),\n",
    "     (\"XGBClassifier\",XGBClassifier()),\n",
    "     (\"AdaBoostClassifier\",AdaBoostClassifier())]\n",
    "stack=StackingClassifier(estimators=base,final_estimator=DecisionTreeClassifier(random_state=5))\n",
    "stmodel=stack.fit(xtrain,ytrain)\n",
    "ypred=stmodel.predict(xtest)\n",
    "print(\"roc auc score\",roc_auc_score(ytest,ypred))\n",
    "print(classification_report(ytest,ypred))"
   ]
  },
  {
   "cell_type": "code",
   "execution_count": 47,
   "metadata": {},
   "outputs": [
    {
     "name": "stdout",
     "output_type": "stream",
     "text": [
      "Classification report               precision    recall  f1-score   support\n",
      "\n",
      "           0       0.85      0.84      0.85      1917\n",
      "           1       0.96      0.96      0.96      7318\n",
      "\n",
      "    accuracy                           0.94      9235\n",
      "   macro avg       0.90      0.90      0.90      9235\n",
      "weighted avg       0.94      0.94      0.94      9235\n",
      "\n",
      "accuracy 0.9360043313481321\n",
      "precision [0.84712042 0.95918089]\n",
      "recall score [0.84402713 0.96009839]\n",
      "f1_score [0.84557094 0.95963942]\n"
     ]
    }
   ],
   "source": [
    "print(\"Classification report\",classification_report(ytest,ypred))\n",
    "print(\"accuracy\",accuracy_score(ytest,ypred))\n",
    "print(\"precision\",precision_score(ytest,ypred,average=None))\n",
    "print(\"recall score\",recall_score(ytest,ypred,average=None))\n",
    "print(\"f1_score\",f1_score(ytest,ypred,average=None))"
   ]
  },
  {
   "cell_type": "markdown",
   "metadata": {},
   "source": [
    "# Randomized Search CV"
   ]
  },
  {
   "cell_type": "code",
   "execution_count": 7,
   "metadata": {},
   "outputs": [
    {
     "data": {
      "text/plain": [
       "{'n_estimators': 250, 'learning_rate': 1.0}"
      ]
     },
     "execution_count": 7,
     "metadata": {},
     "output_type": "execute_result"
    }
   ],
   "source": [
    "from sklearn.model_selection import RandomizedSearchCV\n",
    "estimator=AdaBoostClassifier()\n",
    "distributions={'learning_rate':[0.25,0.5,0.75,1.],\n",
    "            'n_estimators':[100,250,500,650]}\n",
    "rf=RandomizedSearchCV(estimator,distributions)\n",
    "rf.fit(xtrain,ytrain)\n",
    "rf.best_params_"
   ]
  },
  {
   "cell_type": "code",
   "execution_count": 9,
   "metadata": {},
   "outputs": [
    {
     "data": {
      "text/plain": [
       "AdaBoostClassifier(learning_rate=0.25, n_estimators=500)"
      ]
     },
     "execution_count": 9,
     "metadata": {},
     "output_type": "execute_result"
    }
   ],
   "source": [
    "adaboost=AdaBoostClassifier(learning_rate=0.25,n_estimators=500)\n",
    "adaboost.fit(xtrain,ytrain)"
   ]
  },
  {
   "cell_type": "code",
   "execution_count": 10,
   "metadata": {},
   "outputs": [
    {
     "name": "stdout",
     "output_type": "stream",
     "text": [
      "Feature: 0, Score: 0.25800\n",
      "Feature: 1, Score: 0.12600\n",
      "Feature: 2, Score: 0.04200\n",
      "Feature: 3, Score: 0.37000\n",
      "Feature: 4, Score: 0.12400\n",
      "Feature: 5, Score: 0.01800\n",
      "Feature: 6, Score: 0.01400\n",
      "Feature: 7, Score: 0.01200\n",
      "Feature: 8, Score: 0.00600\n",
      "Feature: 9, Score: 0.00600\n",
      "Feature: 10, Score: 0.01400\n",
      "Feature: 11, Score: 0.00000\n",
      "Feature: 12, Score: 0.00000\n",
      "Feature: 13, Score: 0.00000\n",
      "Feature: 14, Score: 0.00200\n",
      "Feature: 15, Score: 0.00000\n",
      "Feature: 16, Score: 0.00800\n"
     ]
    },
    {
     "data": {
      "image/png": "[encoded data removed]",
      "text/plain": [
       "<Figure size 432x288 with 1 Axes>"
      ]
     },
     "metadata": {
      "needs_background": "light"
     },
     "output_type": "display_data"
    }
   ],
   "source": [
    "importance = adaboost.feature_importances_\n",
    "# summarize feature importance\n",
    "for i,v in enumerate(importance):\n",
    "    print('Feature: %0d, Score: %.5f' % (i,v))\n",
    "# plot feature importance\n",
    "plt.bar([x for x in range(len(importance))], importance)\n",
    "plt.show()"
   ]
  },
  {
   "cell_type": "code",
   "execution_count": 59,
   "metadata": {},
   "outputs": [
    {
     "name": "stdout",
     "output_type": "stream",
     "text": [
      "Classification report               precision    recall  f1-score   support\n",
      "\n",
      "           0       0.94      0.81      0.87      1917\n",
      "           1       0.95      0.99      0.97      7318\n",
      "\n",
      "    accuracy                           0.95      9235\n",
      "   macro avg       0.95      0.90      0.92      9235\n",
      "weighted avg       0.95      0.95      0.95      9235\n",
      "\n",
      "accuracy 0.9505143475906876\n",
      "precision [0.93922984 0.95299089]\n",
      "recall score [0.81429317 0.98619841]\n",
      "f1_score [0.8723107  0.96931032]\n"
     ]
    }
   ],
   "source": [
    "ypredfull=adaboost.predict(xtest)\n",
    "print(\"Classification report\",classification_report(ytest,ypredfull))\n",
    "print(\"accuracy\",accuracy_score(ytest,ypredfull))\n",
    "print(\"precision\",precision_score(ytest,ypredfull,average=None))\n",
    "print(\"recall score\",recall_score(ytest,ypredfull,average=None))\n",
    "print(\"f1_score\",f1_score(ytest,ypredfull,average=None))"
   ]
  },
  {
   "cell_type": "code",
   "execution_count": 60,
   "metadata": {},
   "outputs": [
    {
     "name": "stdout",
     "output_type": "stream",
     "text": [
      "specificity 0.8142931664058425\n",
      "sensitivity 0.9998614574674425\n",
      "misclassified percentage 3.9080459770114944\n",
      "correctclassified percentage 96.0919540229885\n"
     ]
    }
   ],
   "source": [
    "cm=confusion_matrix(ytest,ypredfull)\n",
    "TN=cm[0][0]\n",
    "TP=cm[1][1]\n",
    "FP=cm[0][1]\n",
    "FN=[1][0]\n",
    "total=TN+TP+FP+FN\n",
    "specificity=TN/(TN+FP)\n",
    "sensitivity=TP/(TP+FN)\n",
    "misclassified=((FP+FN)/total)*100\n",
    "correctclassified=((TP+TN)/total)*100\n",
    "print(\"specificity\",specificity)\n",
    "print(\"sensitivity\",sensitivity)\n",
    "print(\"misclassified percentage\",misclassified)\n",
    "print(\"correctclassified percentage\",correctclassified)"
   ]
  },
  {
   "cell_type": "code",
   "execution_count": null,
   "metadata": {},
   "outputs": [],
   "source": []
  }
 ],
 "metadata": {
  "kernelspec": {
   "display_name": "Python 3",
   "language": "python",
   "name": "python3"
  },
  "language_info": {
   "codemirror_mode": {
    "name": "ipython",
    "version": 3
   },
   "file_extension": ".py",
   "mimetype": "text/x-python",
   "name": "python",
   "nbconvert_exporter": "python",
   "pygments_lexer": "ipython3",
   "version": "3.8.5"
  }
 },
 "nbformat": 4,
 "nbformat_minor": 4
}
