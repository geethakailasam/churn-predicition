{
 "cells": [
  {
   "cell_type": "markdown",
   "metadata": {},
   "source": [
    "# Decision Tree Modelling"
   ]
  },
  {
   "cell_type": "code",
   "execution_count": 1,
   "metadata": {},
   "outputs": [],
   "source": [
    "import numpy as np\n",
    "import pandas as pd\n",
    "import seaborn as sns\n",
    "import matplotlib.pyplot as plt\n",
    "import warnings \n",
    "warnings.filterwarnings(\"ignore\")\n",
    "from sklearn.preprocessing import StandardScaler\n",
    "from sklearn.model_selection import train_test_split\n",
    "from sklearn.tree import DecisionTreeClassifier\n",
    "from sklearn.ensemble import RandomForestClassifier\n",
    "from sklearn.metrics import classification_report\n",
    "from sklearn.metrics import accuracy_score,precision_score,recall_score,f1_score,confusion_matrix\n",
    "from sklearn.model_selection import GridSearchCV,cross_val_score\n",
    "from sklearn.feature_selection import RFE\n",
    "from mlxtend.feature_selection import SequentialFeatureSelector as sfs"
   ]
  },
  {
   "cell_type": "markdown",
   "metadata": {},
   "source": [
    "# Reading the data"
   ]
  },
  {
   "cell_type": "code",
   "execution_count": 2,
   "metadata": {},
   "outputs": [
    {
     "data": {
      "text/html": [
       "<div>\n",
       "<style scoped>\n",
       "    .dataframe tbody tr th:only-of-type {\n",
       "        vertical-align: middle;\n",
       "    }\n",
       "\n",
       "    .dataframe tbody tr th {\n",
       "        vertical-align: top;\n",
       "    }\n",
       "\n",
       "    .dataframe thead th {\n",
       "        text-align: right;\n",
       "    }\n",
       "</style>\n",
       "<table border=\"1\" class=\"dataframe\">\n",
       "  <thead>\n",
       "    <tr style=\"text-align: right;\">\n",
       "      <th></th>\n",
       "      <th>custid</th>\n",
       "      <th>retained</th>\n",
       "      <th>created</th>\n",
       "      <th>firstorder</th>\n",
       "      <th>lastorder</th>\n",
       "      <th>esent</th>\n",
       "      <th>eopenrate</th>\n",
       "      <th>eclickrate</th>\n",
       "      <th>avgorder</th>\n",
       "      <th>ordfreq</th>\n",
       "      <th>paperless</th>\n",
       "      <th>refill</th>\n",
       "      <th>doorstep</th>\n",
       "      <th>favday</th>\n",
       "      <th>city</th>\n",
       "    </tr>\n",
       "  </thead>\n",
       "  <tbody>\n",
       "    <tr>\n",
       "      <th>0</th>\n",
       "      <td>6H6T6N</td>\n",
       "      <td>0</td>\n",
       "      <td>2012-09-28</td>\n",
       "      <td>2013-08-11 00:00:00</td>\n",
       "      <td>2013-08-11 00:00:00</td>\n",
       "      <td>29</td>\n",
       "      <td>100.000000</td>\n",
       "      <td>3.448276</td>\n",
       "      <td>14.52</td>\n",
       "      <td>0.000000</td>\n",
       "      <td>0</td>\n",
       "      <td>0</td>\n",
       "      <td>0</td>\n",
       "      <td>Monday</td>\n",
       "      <td>DEL</td>\n",
       "    </tr>\n",
       "    <tr>\n",
       "      <th>1</th>\n",
       "      <td>APCENR</td>\n",
       "      <td>1</td>\n",
       "      <td>2010-12-19</td>\n",
       "      <td>2011-04-01 00:00:00</td>\n",
       "      <td>2014-01-19 00:00:00</td>\n",
       "      <td>95</td>\n",
       "      <td>92.631579</td>\n",
       "      <td>10.526316</td>\n",
       "      <td>83.69</td>\n",
       "      <td>0.181641</td>\n",
       "      <td>1</td>\n",
       "      <td>1</td>\n",
       "      <td>1</td>\n",
       "      <td>Friday</td>\n",
       "      <td>DEL</td>\n",
       "    </tr>\n",
       "    <tr>\n",
       "      <th>2</th>\n",
       "      <td>7UP6MS</td>\n",
       "      <td>0</td>\n",
       "      <td>2010-10-03</td>\n",
       "      <td>2010-12-01 00:00:00</td>\n",
       "      <td>2011-07-06 00:00:00</td>\n",
       "      <td>0</td>\n",
       "      <td>0.000000</td>\n",
       "      <td>0.000000</td>\n",
       "      <td>33.58</td>\n",
       "      <td>0.059908</td>\n",
       "      <td>0</td>\n",
       "      <td>0</td>\n",
       "      <td>0</td>\n",
       "      <td>Wednesday</td>\n",
       "      <td>DEL</td>\n",
       "    </tr>\n",
       "    <tr>\n",
       "      <th>3</th>\n",
       "      <td>7ZEW8G</td>\n",
       "      <td>0</td>\n",
       "      <td>2010-10-22</td>\n",
       "      <td>2011-03-28 00:00:00</td>\n",
       "      <td>2011-03-28 00:00:00</td>\n",
       "      <td>0</td>\n",
       "      <td>0.000000</td>\n",
       "      <td>0.000000</td>\n",
       "      <td>54.96</td>\n",
       "      <td>0.000000</td>\n",
       "      <td>0</td>\n",
       "      <td>0</td>\n",
       "      <td>0</td>\n",
       "      <td>Thursday</td>\n",
       "      <td>BOM</td>\n",
       "    </tr>\n",
       "    <tr>\n",
       "      <th>4</th>\n",
       "      <td>8V726M</td>\n",
       "      <td>1</td>\n",
       "      <td>2010-11-27</td>\n",
       "      <td>2010-11-29 00:00:00</td>\n",
       "      <td>2013-01-28 00:00:00</td>\n",
       "      <td>30</td>\n",
       "      <td>90.000000</td>\n",
       "      <td>13.333333</td>\n",
       "      <td>111.91</td>\n",
       "      <td>0.008850</td>\n",
       "      <td>0</td>\n",
       "      <td>0</td>\n",
       "      <td>0</td>\n",
       "      <td>Monday</td>\n",
       "      <td>BOM</td>\n",
       "    </tr>\n",
       "  </tbody>\n",
       "</table>\n",
       "</div>"
      ],
      "text/plain": [
       "   custid  retained    created           firstorder            lastorder  \\\n",
       "0  6H6T6N         0 2012-09-28  2013-08-11 00:00:00  2013-08-11 00:00:00   \n",
       "1  APCENR         1 2010-12-19  2011-04-01 00:00:00  2014-01-19 00:00:00   \n",
       "2  7UP6MS         0 2010-10-03  2010-12-01 00:00:00  2011-07-06 00:00:00   \n",
       "3  7ZEW8G         0 2010-10-22  2011-03-28 00:00:00  2011-03-28 00:00:00   \n",
       "4  8V726M         1 2010-11-27  2010-11-29 00:00:00  2013-01-28 00:00:00   \n",
       "\n",
       "   esent   eopenrate  eclickrate  avgorder   ordfreq  paperless  refill  \\\n",
       "0     29  100.000000    3.448276     14.52  0.000000          0       0   \n",
       "1     95   92.631579   10.526316     83.69  0.181641          1       1   \n",
       "2      0    0.000000    0.000000     33.58  0.059908          0       0   \n",
       "3      0    0.000000    0.000000     54.96  0.000000          0       0   \n",
       "4     30   90.000000   13.333333    111.91  0.008850          0       0   \n",
       "\n",
       "   doorstep     favday city  \n",
       "0         0     Monday  DEL  \n",
       "1         1     Friday  DEL  \n",
       "2         0  Wednesday  DEL  \n",
       "3         0   Thursday  BOM  \n",
       "4         0     Monday  BOM  "
      ]
     },
     "execution_count": 2,
     "metadata": {},
     "output_type": "execute_result"
    }
   ],
   "source": [
    "#file used is a preprocessed file\n",
    "df=pd.read_excel(\"storedata.xlsx\")\n",
    "df=df.drop(columns=['Unnamed: 0', 'index'],axis=1)\n",
    "df.head()"
   ]
  },
  {
   "cell_type": "code",
   "execution_count": 3,
   "metadata": {},
   "outputs": [
    {
     "data": {
      "text/plain": [
       "custid        0\n",
       "retained      0\n",
       "created       0\n",
       "firstorder    0\n",
       "lastorder     0\n",
       "esent         0\n",
       "eopenrate     0\n",
       "eclickrate    0\n",
       "avgorder      0\n",
       "ordfreq       0\n",
       "paperless     0\n",
       "refill        0\n",
       "doorstep      0\n",
       "favday        0\n",
       "city          0\n",
       "dtype: int64"
      ]
     },
     "execution_count": 3,
     "metadata": {},
     "output_type": "execute_result"
    }
   ],
   "source": [
    "df.isnull().sum()"
   ]
  },
  {
   "cell_type": "code",
   "execution_count": 4,
   "metadata": {},
   "outputs": [],
   "source": [
    "df['firstorder']= df.firstorder.astype('datetime64')\n",
    "df['lastorder'] = df.lastorder.astype('datetime64')"
   ]
  },
  {
   "cell_type": "markdown",
   "metadata": {},
   "source": [
    "# Data Information"
   ]
  },
  {
   "cell_type": "code",
   "execution_count": 5,
   "metadata": {},
   "outputs": [
    {
     "data": {
      "text/plain": [
       "custid                object\n",
       "retained               int64\n",
       "created       datetime64[ns]\n",
       "firstorder    datetime64[ns]\n",
       "lastorder     datetime64[ns]\n",
       "esent                  int64\n",
       "eopenrate            float64\n",
       "eclickrate           float64\n",
       "avgorder             float64\n",
       "ordfreq              float64\n",
       "paperless              int64\n",
       "refill                 int64\n",
       "doorstep               int64\n",
       "favday                object\n",
       "city                  object\n",
       "dtype: object"
      ]
     },
     "execution_count": 5,
     "metadata": {},
     "output_type": "execute_result"
    }
   ],
   "source": [
    "df.dtypes"
   ]
  },
  {
   "cell_type": "code",
   "execution_count": 6,
   "metadata": {},
   "outputs": [
    {
     "data": {
      "text/html": [
       "<div>\n",
       "<style scoped>\n",
       "    .dataframe tbody tr th:only-of-type {\n",
       "        vertical-align: middle;\n",
       "    }\n",
       "\n",
       "    .dataframe tbody tr th {\n",
       "        vertical-align: top;\n",
       "    }\n",
       "\n",
       "    .dataframe thead th {\n",
       "        text-align: right;\n",
       "    }\n",
       "</style>\n",
       "<table border=\"1\" class=\"dataframe\">\n",
       "  <thead>\n",
       "    <tr style=\"text-align: right;\">\n",
       "      <th></th>\n",
       "      <th>retained</th>\n",
       "      <th>esent</th>\n",
       "      <th>eopenrate</th>\n",
       "      <th>eclickrate</th>\n",
       "      <th>avgorder</th>\n",
       "      <th>ordfreq</th>\n",
       "      <th>paperless</th>\n",
       "      <th>refill</th>\n",
       "      <th>doorstep</th>\n",
       "    </tr>\n",
       "  </thead>\n",
       "  <tbody>\n",
       "    <tr>\n",
       "      <th>count</th>\n",
       "      <td>30781.000000</td>\n",
       "      <td>30781.000000</td>\n",
       "      <td>30781.000000</td>\n",
       "      <td>30781.000000</td>\n",
       "      <td>30781.000000</td>\n",
       "      <td>30781.000000</td>\n",
       "      <td>30781.000000</td>\n",
       "      <td>30781.000000</td>\n",
       "      <td>30781.000000</td>\n",
       "    </tr>\n",
       "    <tr>\n",
       "      <th>mean</th>\n",
       "      <td>0.794581</td>\n",
       "      <td>28.136708</td>\n",
       "      <td>25.555884</td>\n",
       "      <td>5.672685</td>\n",
       "      <td>61.840438</td>\n",
       "      <td>0.037753</td>\n",
       "      <td>0.649102</td>\n",
       "      <td>0.095059</td>\n",
       "      <td>0.038920</td>\n",
       "    </tr>\n",
       "    <tr>\n",
       "      <th>std</th>\n",
       "      <td>0.404014</td>\n",
       "      <td>16.749906</td>\n",
       "      <td>29.556042</td>\n",
       "      <td>10.563981</td>\n",
       "      <td>40.941429</td>\n",
       "      <td>0.103961</td>\n",
       "      <td>0.477259</td>\n",
       "      <td>0.293301</td>\n",
       "      <td>0.193408</td>\n",
       "    </tr>\n",
       "    <tr>\n",
       "      <th>min</th>\n",
       "      <td>0.000000</td>\n",
       "      <td>0.000000</td>\n",
       "      <td>0.000000</td>\n",
       "      <td>0.000000</td>\n",
       "      <td>0.000000</td>\n",
       "      <td>0.000000</td>\n",
       "      <td>0.000000</td>\n",
       "      <td>0.000000</td>\n",
       "      <td>0.000000</td>\n",
       "    </tr>\n",
       "    <tr>\n",
       "      <th>25%</th>\n",
       "      <td>1.000000</td>\n",
       "      <td>16.000000</td>\n",
       "      <td>2.083333</td>\n",
       "      <td>0.000000</td>\n",
       "      <td>40.020000</td>\n",
       "      <td>0.000000</td>\n",
       "      <td>0.000000</td>\n",
       "      <td>0.000000</td>\n",
       "      <td>0.000000</td>\n",
       "    </tr>\n",
       "    <tr>\n",
       "      <th>50%</th>\n",
       "      <td>1.000000</td>\n",
       "      <td>32.000000</td>\n",
       "      <td>13.207547</td>\n",
       "      <td>0.000000</td>\n",
       "      <td>50.960000</td>\n",
       "      <td>0.000000</td>\n",
       "      <td>1.000000</td>\n",
       "      <td>0.000000</td>\n",
       "      <td>0.000000</td>\n",
       "    </tr>\n",
       "    <tr>\n",
       "      <th>75%</th>\n",
       "      <td>1.000000</td>\n",
       "      <td>42.000000</td>\n",
       "      <td>40.000000</td>\n",
       "      <td>7.142857</td>\n",
       "      <td>74.250000</td>\n",
       "      <td>0.040816</td>\n",
       "      <td>1.000000</td>\n",
       "      <td>0.000000</td>\n",
       "      <td>0.000000</td>\n",
       "    </tr>\n",
       "    <tr>\n",
       "      <th>max</th>\n",
       "      <td>1.000000</td>\n",
       "      <td>291.000000</td>\n",
       "      <td>100.000000</td>\n",
       "      <td>100.000000</td>\n",
       "      <td>2600.140000</td>\n",
       "      <td>3.250000</td>\n",
       "      <td>1.000000</td>\n",
       "      <td>1.000000</td>\n",
       "      <td>1.000000</td>\n",
       "    </tr>\n",
       "  </tbody>\n",
       "</table>\n",
       "</div>"
      ],
      "text/plain": [
       "           retained         esent     eopenrate    eclickrate      avgorder  \\\n",
       "count  30781.000000  30781.000000  30781.000000  30781.000000  30781.000000   \n",
       "mean       0.794581     28.136708     25.555884      5.672685     61.840438   \n",
       "std        0.404014     16.749906     29.556042     10.563981     40.941429   \n",
       "min        0.000000      0.000000      0.000000      0.000000      0.000000   \n",
       "25%        1.000000     16.000000      2.083333      0.000000     40.020000   \n",
       "50%        1.000000     32.000000     13.207547      0.000000     50.960000   \n",
       "75%        1.000000     42.000000     40.000000      7.142857     74.250000   \n",
       "max        1.000000    291.000000    100.000000    100.000000   2600.140000   \n",
       "\n",
       "            ordfreq     paperless        refill      doorstep  \n",
       "count  30781.000000  30781.000000  30781.000000  30781.000000  \n",
       "mean       0.037753      0.649102      0.095059      0.038920  \n",
       "std        0.103961      0.477259      0.293301      0.193408  \n",
       "min        0.000000      0.000000      0.000000      0.000000  \n",
       "25%        0.000000      0.000000      0.000000      0.000000  \n",
       "50%        0.000000      1.000000      0.000000      0.000000  \n",
       "75%        0.040816      1.000000      0.000000      0.000000  \n",
       "max        3.250000      1.000000      1.000000      1.000000  "
      ]
     },
     "execution_count": 6,
     "metadata": {},
     "output_type": "execute_result"
    }
   ],
   "source": [
    "df.describe()"
   ]
  },
  {
   "cell_type": "code",
   "execution_count": 5,
   "metadata": {},
   "outputs": [],
   "source": [
    "df.set_index([\"custid\"],inplace=True)"
   ]
  },
  {
   "cell_type": "markdown",
   "metadata": {},
   "source": [
    "# One Hot Encoding"
   ]
  },
  {
   "cell_type": "code",
   "execution_count": 6,
   "metadata": {},
   "outputs": [],
   "source": [
    "df=pd.concat((df.drop(columns=['city','favday'],axis=1),pd.get_dummies(df[['favday','city']],drop_first=True)),axis=1)"
   ]
  },
  {
   "cell_type": "markdown",
   "metadata": {},
   "source": [
    "# Preprocessing of Decision trees"
   ]
  },
  {
   "cell_type": "markdown",
   "metadata": {},
   "source": [
    "Advantage of using decision trees is that ordinal (continuous or discrete) input data does not require any significant preprocessing. In fact, the results will be consistent regardless of any scaling or translational normalization, since the trees can choose equivalent splitting points"
   ]
  },
  {
   "cell_type": "markdown",
   "metadata": {},
   "source": [
    "# Train test split"
   ]
  },
  {
   "cell_type": "code",
   "execution_count": 9,
   "metadata": {},
   "outputs": [],
   "source": [
    "x=df.drop(\"retained\",axis=1)\n",
    "y=df[\"retained\"]\n",
    "sc=StandardScaler()\n",
    "scaled=sc.fit_transform(x)\n",
    "xtrain,xtest,ytrain,ytest=train_test_split(scaled,y,test_size=0.3,random_state=2)"
   ]
  },
  {
   "cell_type": "code",
   "execution_count": 8,
   "metadata": {},
   "outputs": [],
   "source": [
    "df[\"created\"]=df[\"created\"].astype(\"int64\")\n",
    "df[\"firstorder\"]=df[\"firstorder\"].astype(\"int64\")\n",
    "df[\"lastorder\"]=df[\"lastorder\"].astype(\"int64\")\n",
    "#Decision tree doesnot accept datetime so convertion into int"
   ]
  },
  {
   "cell_type": "markdown",
   "metadata": {},
   "source": [
    "# Decision Tree Model"
   ]
  },
  {
   "cell_type": "code",
   "execution_count": 11,
   "metadata": {},
   "outputs": [
    {
     "name": "stdout",
     "output_type": "stream",
     "text": [
      "Classification report               precision    recall  f1-score   support\n",
      "\n",
      "           0       0.88      0.89      0.89      1917\n",
      "           1       0.97      0.97      0.97      7318\n",
      "\n",
      "    accuracy                           0.95      9235\n",
      "   macro avg       0.93      0.93      0.93      9235\n",
      "weighted avg       0.95      0.95      0.95      9235\n",
      "\n",
      "accuracy 0.9530048727666486\n",
      "precision [0.88280847 0.97163606]\n",
      "recall score [0.89201878 0.9689806 ]\n",
      "f1_score [0.88738972 0.97030651]\n"
     ]
    }
   ],
   "source": [
    "model=DecisionTreeClassifier(criterion=\"gini\",random_state=2)\n",
    "model.fit(xtrain,ytrain)\n",
    "ypredfull=model.predict(xtest)\n",
    "print(\"Classification report\",classification_report(ytest,ypredfull))\n",
    "print(\"accuracy\",accuracy_score(ytest,ypredfull))\n",
    "print(\"precision\",precision_score(ytest,ypredfull,average=None))\n",
    "print(\"recall score\",recall_score(ytest,ypredfull,average=None))\n",
    "print(\"f1_score\",f1_score(ytest,ypredfull,average=None))"
   ]
  },
  {
   "cell_type": "code",
   "execution_count": 12,
   "metadata": {},
   "outputs": [
    {
     "name": "stdout",
     "output_type": "stream",
     "text": [
      "specificity 0.892018779342723\n",
      "sensitivity 0.9998589960518894\n",
      "misclassified percentage 2.3088023088023086\n",
      "correctclassified percentage 97.6911976911977\n"
     ]
    }
   ],
   "source": [
    "cm=confusion_matrix(ytest,ypredfull)\n",
    "TN=cm[0][0]\n",
    "TP=cm[1][1]\n",
    "FP=cm[0][1]\n",
    "FN=[1][0]\n",
    "total=TN+TP+FP+FN\n",
    "specificity=TN/(TN+FP)\n",
    "sensitivity=TP/(TP+FN)\n",
    "misclassified=((FP+FN)/total)*100\n",
    "correctclassified=((TP+TN)/total)*100\n",
    "print(\"specificity\",specificity)\n",
    "print(\"sensitivity\",sensitivity)\n",
    "print(\"misclassified percentage\",misclassified)\n",
    "print(\"correctclassified percentage\",correctclassified)"
   ]
  },
  {
   "cell_type": "markdown",
   "metadata": {},
   "source": [
    "# Decision Tree Representation"
   ]
  },
  {
   "cell_type": "code",
   "execution_count": 17,
   "metadata": {},
   "outputs": [
    {
     "data": {
      "image/png": "[encoded data removed]",
      "text/plain": [
       "<IPython.core.display.Image object>"
      ]
     },
     "execution_count": 17,
     "metadata": {},
     "output_type": "execute_result"
    }
   ],
   "source": [
    "import pydotplus\n",
    "from sklearn import tree\n",
    "from IPython.display import Image\n",
    "dt=DecisionTreeClassifier(max_leaf_nodes=5)\n",
    "dtmodel=dt.fit(xtrain,ytrain)\n",
    "lables=x.columns\n",
    "dotdata=tree.export_graphviz(dtmodel,feature_names=lables,class_names=[\"No\",\"Yes\"])\n",
    "graph=pydotplus.graph_from_dot_data(dotdata)\n",
    "Image(graph.create_png())"
   ]
  },
  {
   "cell_type": "markdown",
   "metadata": {},
   "source": [
    "# Hyper Parameter Tunning"
   ]
  },
  {
   "cell_type": "code",
   "execution_count": 20,
   "metadata": {},
   "outputs": [
    {
     "data": {
      "text/plain": [
       "{'criterion': 'gini', 'max_depth': 7, 'min_samples_split': 2}"
      ]
     },
     "execution_count": 20,
     "metadata": {},
     "output_type": "execute_result"
    }
   ],
   "source": [
    "tunedparameters=[{\"criterion\":['entropy', 'gini'],\"max_depth\":range(2, 10),\"min_samples_split\":range(2,10)}]\n",
    "dtmodel=DecisionTreeClassifier(random_state=3)\n",
    "grid=GridSearchCV(estimator=dtmodel,param_grid=tunedparameters,cv=5)\n",
    "grid.fit(xtrain,ytrain)\n",
    "grid.best_params_"
   ]
  },
  {
   "cell_type": "code",
   "execution_count": 29,
   "metadata": {},
   "outputs": [
    {
     "name": "stdout",
     "output_type": "stream",
     "text": [
      "Classification report               precision    recall  f1-score   support\n",
      "\n",
      "           0       0.60      0.19      0.29      1917\n",
      "           1       0.82      0.97      0.89      7318\n",
      "\n",
      "    accuracy                           0.81      9235\n",
      "   macro avg       0.71      0.58      0.59      9235\n",
      "weighted avg       0.77      0.81      0.76      9235\n",
      "\n",
      "accuracy 0.8057390362750406\n",
      "precision [0.5993538  0.82056639]\n",
      "recall score [0.19353156 0.96611096]\n",
      "f1_score [0.29258675 0.88741057]\n"
     ]
    }
   ],
   "source": [
    "model=DecisionTreeClassifier(criterion=\"gini\",max_depth=7,min_samples_split=2,random_state=3)\n",
    "model.fit(xtrain,ytrain)\n",
    "ypredfull=model.predict(xtest)\n",
    "print(\"Classification report\",classification_report(ytest,ypredfull))\n",
    "print(\"accuracy\",accuracy_score(ytest,ypredfull))\n",
    "print(\"precision\",precision_score(ytest,ypredfull,average=None))\n",
    "print(\"recall score\",recall_score(ytest,ypredfull,average=None))\n",
    "print(\"f1_score\",f1_score(ytest,ypredfull,average=None))"
   ]
  },
  {
   "cell_type": "code",
   "execution_count": 30,
   "metadata": {},
   "outputs": [
    {
     "name": "stdout",
     "output_type": "stream",
     "text": [
      "specificity 0.19353155972874284\n",
      "sensitivity 0.9998585772875124\n",
      "misclassified percentage 17.21183800623053\n",
      "correctclassified percentage 82.78816199376948\n"
     ]
    }
   ],
   "source": [
    "cm=confusion_matrix(ytest,ypredfull)\n",
    "TN=cm[0][0]\n",
    "TP=cm[1][1]\n",
    "FP=cm[0][1]\n",
    "FN=[1][0]\n",
    "total=TN+TP+FP+FN\n",
    "specificity=TN/(TN+FP)\n",
    "sensitivity=TP/(TP+FN)\n",
    "misclassified=((FP+FN)/total)*100\n",
    "correctclassified=((TP+TN)/total)*100\n",
    "print(\"specificity\",specificity)\n",
    "print(\"sensitivity\",sensitivity)\n",
    "print(\"misclassified percentage\",misclassified)\n",
    "print(\"correctclassified percentage\",correctclassified)"
   ]
  },
  {
   "cell_type": "code",
   "execution_count": 25,
   "metadata": {},
   "outputs": [
    {
     "data": {
      "image/png": "[encoded data removed]",
      "text/plain": [
       "<IPython.core.display.Image object>"
      ]
     },
     "execution_count": 25,
     "metadata": {},
     "output_type": "execute_result"
    }
   ],
   "source": [
    "dt=DecisionTreeClassifier(criterion=\"gini\",max_depth=7,min_samples_split=2,max_leaf_nodes=5)\n",
    "dtmodel=dt.fit(xtrain,ytrain)\n",
    "lables=x.columns\n",
    "dotdata=tree.export_graphviz(dtmodel,feature_names=lables,class_names=[\"No\",\"Yes\"])\n",
    "graph=pydotplus.graph_from_dot_data(dotdata)\n",
    "Image(graph.create_png())"
   ]
  },
  {
   "cell_type": "code",
   "execution_count": 23,
   "metadata": {},
   "outputs": [
    {
     "data": {
      "text/plain": [
       "{'criterion': 'gini',\n",
       " 'max_depth': 2,\n",
       " 'max_leaf_nodes': 4,\n",
       " 'min_samples_leaf': 1,\n",
       " 'min_samples_split': 2}"
      ]
     },
     "execution_count": 23,
     "metadata": {},
     "output_type": "execute_result"
    }
   ],
   "source": [
    "tunedparameters=[{\"criterion\":[\"gini\",\"entropy\"],\"max_depth\":range(2,10),\"min_samples_split\":range(2,10),\n",
    "                  \"min_samples_leaf\":range(0,5),\"max_leaf_nodes\":range(2,5)}]\n",
    "dtmodel=DecisionTreeClassifier(random_state=3)\n",
    "grid=GridSearchCV(estimator=dtmodel,param_grid=tunedparameters,cv=5)\n",
    "grid.fit(xtrain,ytrain)\n",
    "grid.best_params_"
   ]
  },
  {
   "cell_type": "code",
   "execution_count": 14,
   "metadata": {},
   "outputs": [
    {
     "name": "stdout",
     "output_type": "stream",
     "text": [
      "Classification report               precision    recall  f1-score   support\n",
      "\n",
      "           0       0.97      0.76      0.85      1917\n",
      "           1       0.94      0.99      0.97      7318\n",
      "\n",
      "    accuracy                           0.94      9235\n",
      "   macro avg       0.95      0.88      0.91      9235\n",
      "weighted avg       0.95      0.94      0.94      9235\n",
      "\n",
      "accuracy 0.9442338927991337\n",
      "precision [0.96547145 0.94009574]\n",
      "recall score [0.75847679 0.99289423]\n",
      "f1_score [0.84954718 0.96577391]\n"
     ]
    }
   ],
   "source": [
    "model=DecisionTreeClassifier(criterion=\"gini\",max_depth=2,max_leaf_nodes=4,min_samples_leaf=1,min_samples_split=2,random_state=3)\n",
    "model.fit(xtrain,ytrain)\n",
    "ypredfull=model.predict(xtest)\n",
    "print(\"Classification report\",classification_report(ytest,ypredfull))\n",
    "print(\"accuracy\",accuracy_score(ytest,ypredfull))\n",
    "print(\"precision\",precision_score(ytest,ypredfull,average=None))\n",
    "print(\"recall score\",recall_score(ytest,ypredfull,average=None))\n",
    "print(\"f1_score\",f1_score(ytest,ypredfull,average=None))"
   ]
  },
  {
   "cell_type": "code",
   "execution_count": 15,
   "metadata": {},
   "outputs": [
    {
     "name": "stdout",
     "output_type": "stream",
     "text": [
      "Feature: 0, Score: 0.00000\n",
      "Feature: 1, Score: 0.00000\n",
      "Feature: 2, Score: 0.00000\n",
      "Feature: 3, Score: 1.00000\n",
      "Feature: 4, Score: 0.00000\n",
      "Feature: 5, Score: 0.00000\n",
      "Feature: 6, Score: 0.00000\n",
      "Feature: 7, Score: 0.00000\n",
      "Feature: 8, Score: 0.00000\n",
      "Feature: 9, Score: 0.00000\n",
      "Feature: 10, Score: 0.00000\n",
      "Feature: 11, Score: 0.00000\n",
      "Feature: 12, Score: 0.00000\n",
      "Feature: 13, Score: 0.00000\n",
      "Feature: 14, Score: 0.00000\n",
      "Feature: 15, Score: 0.00000\n",
      "Feature: 16, Score: 0.00000\n",
      "Feature: 17, Score: 0.00000\n",
      "Feature: 18, Score: 0.00000\n",
      "Feature: 19, Score: 0.00000\n"
     ]
    },
    {
     "data": {
      "image/png": "[encoded data removed]",
      "text/plain": [
       "<Figure size 432x288 with 1 Axes>"
      ]
     },
     "metadata": {
      "needs_background": "light"
     },
     "output_type": "display_data"
    }
   ],
   "source": [
    "importance = model.feature_importances_\n",
    "# summarize feature importance\n",
    "for i,v in enumerate(importance):\n",
    "    print('Feature: %0d, Score: %.5f' % (i,v))\n",
    "# plot feature importance\n",
    "plt.bar([x for x in range(len(importance))], importance)\n",
    "plt.show()"
   ]
  },
  {
   "cell_type": "code",
   "execution_count": 32,
   "metadata": {},
   "outputs": [
    {
     "name": "stdout",
     "output_type": "stream",
     "text": [
      "specificity 0.03182055294731351\n",
      "sensitivity 0.9998627316403569\n",
      "misclassified percentage 20.180395566181264\n",
      "correctclassified percentage 79.81960443381874\n"
     ]
    }
   ],
   "source": [
    "cm=confusion_matrix(ytest,ypredfull)\n",
    "TN=cm[0][0]\n",
    "TP=cm[1][1]\n",
    "FP=cm[0][1]\n",
    "FN=[1][0]\n",
    "total=TN+TP+FP+FN\n",
    "specificity=TN/(TN+FP)\n",
    "sensitivity=TP/(TP+FN)\n",
    "misclassified=((FP+FN)/total)*100\n",
    "correctclassified=((TP+TN)/total)*100\n",
    "print(\"specificity\",specificity)\n",
    "print(\"sensitivity\",sensitivity)\n",
    "print(\"misclassified percentage\",misclassified)\n",
    "print(\"correctclassified percentage\",correctclassified)"
   ]
  },
  {
   "cell_type": "code",
   "execution_count": 27,
   "metadata": {},
   "outputs": [
    {
     "data": {
      "image/png": "[encoded data removed]",
      "text/plain": [
       "<IPython.core.display.Image object>"
      ]
     },
     "execution_count": 27,
     "metadata": {},
     "output_type": "execute_result"
    }
   ],
   "source": [
    "model=DecisionTreeClassifier(criterion=\"gini\",max_depth=2,max_leaf_nodes=4,min_samples_leaf=1,min_samples_split=2,random_state=3)\n",
    "dtmodel=model.fit(xtrain,ytrain)\n",
    "lables=x.columns\n",
    "dotdata=tree.export_graphviz(dtmodel,feature_names=lables,class_names=[\"No\",\"Yes\"])\n",
    "graph=pydotplus.graph_from_dot_data(dotdata)\n",
    "Image(graph.create_png())"
   ]
  },
  {
   "cell_type": "markdown",
   "metadata": {},
   "source": [
    "# RFE selection"
   ]
  },
  {
   "cell_type": "code",
   "execution_count": 19,
   "metadata": {},
   "outputs": [],
   "source": [
    "dc = DecisionTreeClassifier()"
   ]
  },
  {
   "cell_type": "code",
   "execution_count": 24,
   "metadata": {},
   "outputs": [
    {
     "data": {
      "text/html": [
       "<div>\n",
       "<style scoped>\n",
       "    .dataframe tbody tr th:only-of-type {\n",
       "        vertical-align: middle;\n",
       "    }\n",
       "\n",
       "    .dataframe tbody tr th {\n",
       "        vertical-align: top;\n",
       "    }\n",
       "\n",
       "    .dataframe thead th {\n",
       "        text-align: right;\n",
       "    }\n",
       "</style>\n",
       "<table border=\"1\" class=\"dataframe\">\n",
       "  <thead>\n",
       "    <tr style=\"text-align: right;\">\n",
       "      <th></th>\n",
       "      <th>Feature</th>\n",
       "      <th>Ranking</th>\n",
       "    </tr>\n",
       "  </thead>\n",
       "  <tbody>\n",
       "    <tr>\n",
       "      <th>0</th>\n",
       "      <td>esent</td>\n",
       "      <td>1</td>\n",
       "    </tr>\n",
       "    <tr>\n",
       "      <th>1</th>\n",
       "      <td>eopenrate</td>\n",
       "      <td>1</td>\n",
       "    </tr>\n",
       "    <tr>\n",
       "      <th>2</th>\n",
       "      <td>eclickrate</td>\n",
       "      <td>1</td>\n",
       "    </tr>\n",
       "    <tr>\n",
       "      <th>3</th>\n",
       "      <td>avgorder</td>\n",
       "      <td>1</td>\n",
       "    </tr>\n",
       "    <tr>\n",
       "      <th>4</th>\n",
       "      <td>ordfreq</td>\n",
       "      <td>1</td>\n",
       "    </tr>\n",
       "  </tbody>\n",
       "</table>\n",
       "</div>"
      ],
      "text/plain": [
       "      Feature Ranking\n",
       "0       esent       1\n",
       "1   eopenrate       1\n",
       "2  eclickrate       1\n",
       "3    avgorder       1\n",
       "4     ordfreq       1"
      ]
     },
     "execution_count": 24,
     "metadata": {},
     "output_type": "execute_result"
    }
   ],
   "source": [
    "rfe = RFE(estimator=dc,n_features_to_select=5).fit(xtrain,ytrain)\n",
    "rfe.ranking_\n",
    "feature_ranking = pd.DataFrame([x.columns,rfe.ranking_],index=['Feature','Ranking']).T\n",
    "rfe_feat=feature_ranking[feature_ranking.Ranking==1]\n",
    "rfe_feat"
   ]
  },
  {
   "cell_type": "code",
   "execution_count": 33,
   "metadata": {},
   "outputs": [
    {
     "name": "stdout",
     "output_type": "stream",
     "text": [
      "Classification report               precision    recall  f1-score   support\n",
      "\n",
      "           0       0.84      0.84      0.84      1917\n",
      "           1       0.96      0.96      0.96      7318\n",
      "\n",
      "    accuracy                           0.93      9235\n",
      "   macro avg       0.90      0.90      0.90      9235\n",
      "weighted avg       0.93      0.93      0.93      9235\n",
      "\n",
      "accuracy 0.9329723876556578\n",
      "precision [0.83837331 0.95776958]\n",
      "recall score [0.83881064 0.9576387 ]\n",
      "f1_score [0.83859192 0.95770413]\n"
     ]
    }
   ],
   "source": [
    "x=df[[\"esent\",\"eopenrate\",\"eclickrate\",\"avgorder\",\"ordfreq\"]]\n",
    "y=df[\"retained\"]\n",
    "xtrain,xtest,ytrain,ytest=train_test_split(x,y,test_size=0.30,random_state=2)\n",
    "model=DecisionTreeClassifier(criterion=\"gini\",random_state=2)\n",
    "model.fit(xtrain,ytrain)\n",
    "ypredfull=model.predict(xtest)\n",
    "print(\"Classification report\",classification_report(ytest,ypredfull))\n",
    "print(\"accuracy\",accuracy_score(ytest,ypredfull))\n",
    "print(\"precision\",precision_score(ytest,ypredfull,average=None))\n",
    "print(\"recall score\",recall_score(ytest,ypredfull,average=None))\n",
    "print(\"f1_score\",f1_score(ytest,ypredfull,average=None))"
   ]
  },
  {
   "cell_type": "code",
   "execution_count": 34,
   "metadata": {},
   "outputs": [
    {
     "name": "stdout",
     "output_type": "stream",
     "text": [
      "specificity 0.838810641627543\n",
      "sensitivity 0.9998573262947639\n",
      "misclassified percentage 3.4730002240645304\n",
      "correctclassified percentage 96.52699977593548\n"
     ]
    }
   ],
   "source": [
    "cm=confusion_matrix(ytest,ypredfull)\n",
    "TN=cm[0][0]\n",
    "TP=cm[1][1]\n",
    "FP=cm[0][1]\n",
    "FN=[1][0]\n",
    "total=TN+TP+FP+FN\n",
    "specificity=TN/(TN+FP)\n",
    "sensitivity=TP/(TP+FN)\n",
    "misclassified=((FP+FN)/total)*100\n",
    "correctclassified=((TP+TN)/total)*100\n",
    "print(\"specificity\",specificity)\n",
    "print(\"sensitivity\",sensitivity)\n",
    "print(\"misclassified percentage\",misclassified)\n",
    "print(\"correctclassified percentage\",correctclassified)"
   ]
  },
  {
   "cell_type": "markdown",
   "metadata": {},
   "source": [
    "# Backward Selection"
   ]
  },
  {
   "cell_type": "code",
   "execution_count": 28,
   "metadata": {},
   "outputs": [
    {
     "data": {
      "text/plain": [
       "['0', '5', '10']"
      ]
     },
     "execution_count": 28,
     "metadata": {},
     "output_type": "execute_result"
    }
   ],
   "source": [
    "lb = sfs(estimator= dc, k_features='best', scoring='f1',forward=False).fit(xtrain,ytrain)\n",
    "back_feat = list(lb.k_feature_names_)\n",
    "back_feat"
   ]
  },
  {
   "cell_type": "code",
   "execution_count": 32,
   "metadata": {},
   "outputs": [
    {
     "data": {
      "text/plain": [
       "(0, 5, 10)"
      ]
     },
     "execution_count": 32,
     "metadata": {},
     "output_type": "execute_result"
    }
   ],
   "source": [
    "lb.k_feature_idx_"
   ]
  },
  {
   "cell_type": "code",
   "execution_count": 47,
   "metadata": {},
   "outputs": [
    {
     "data": {
      "text/plain": [
       "Index(['created', 'firstorder', 'lastorder', 'esent', 'eopenrate',\n",
       "       'eclickrate', 'avgorder', 'ordfreq', 'paperless', 'refill', 'doorstep',\n",
       "       'favday_Monday', 'favday_Saturday', 'favday_Sunday', 'favday_Thursday',\n",
       "       'favday_Tuesday', 'favday_Wednesday', 'city_BOM', 'city_DEL',\n",
       "       'city_MAA'],\n",
       "      dtype='object')"
      ]
     },
     "execution_count": 47,
     "metadata": {},
     "output_type": "execute_result"
    }
   ],
   "source": [
    "x.columns"
   ]
  },
  {
   "cell_type": "code",
   "execution_count": 35,
   "metadata": {},
   "outputs": [
    {
     "name": "stdout",
     "output_type": "stream",
     "text": [
      "Classification report               precision    recall  f1-score   support\n",
      "\n",
      "           0       0.43      0.37      0.40      1917\n",
      "           1       0.84      0.87      0.86      7318\n",
      "\n",
      "    accuracy                           0.77      9235\n",
      "   macro avg       0.64      0.62      0.63      9235\n",
      "weighted avg       0.76      0.77      0.76      9235\n",
      "\n",
      "accuracy 0.7688142934488359\n",
      "precision [0.43393939 0.84166117]\n",
      "recall score [0.37350026 0.8723695 ]\n",
      "f1_score [0.40145781 0.85674025]\n"
     ]
    }
   ],
   "source": [
    "x=df[[\"created\",\"eclickrate\",\"doorstep\"]]\n",
    "y=df[\"retained\"]\n",
    "xtrain,xtest,ytrain,ytest=train_test_split(x,y,test_size=0.30,random_state=2)\n",
    "model=DecisionTreeClassifier(criterion=\"gini\",random_state=2)\n",
    "model.fit(xtrain,ytrain)\n",
    "ypredfull=model.predict(xtest)\n",
    "print(\"Classification report\",classification_report(ytest,ypredfull))\n",
    "print(\"accuracy\",accuracy_score(ytest,ypredfull))\n",
    "print(\"precision\",precision_score(ytest,ypredfull,average=None))\n",
    "print(\"recall score\",recall_score(ytest,ypredfull,average=None))\n",
    "print(\"f1_score\",f1_score(ytest,ypredfull,average=None))"
   ]
  },
  {
   "cell_type": "code",
   "execution_count": 36,
   "metadata": {},
   "outputs": [
    {
     "name": "stdout",
     "output_type": "stream",
     "text": [
      "specificity 0.3735002608242045\n",
      "sensitivity 0.9998433829287392\n",
      "misclassified percentage 14.478438930378223\n",
      "correctclassified percentage 85.52156106962178\n"
     ]
    }
   ],
   "source": [
    "cm=confusion_matrix(ytest,ypredfull)\n",
    "TN=cm[0][0]\n",
    "TP=cm[1][1]\n",
    "FP=cm[0][1]\n",
    "FN=[1][0]\n",
    "total=TN+TP+FP+FN\n",
    "specificity=TN/(TN+FP)\n",
    "sensitivity=TP/(TP+FN)\n",
    "misclassified=((FP+FN)/total)*100\n",
    "correctclassified=((TP+TN)/total)*100\n",
    "print(\"specificity\",specificity)\n",
    "print(\"sensitivity\",sensitivity)\n",
    "print(\"misclassified percentage\",misclassified)\n",
    "print(\"correctclassified percentage\",correctclassified)"
   ]
  },
  {
   "cell_type": "markdown",
   "metadata": {},
   "source": [
    "# Forward Selection"
   ]
  },
  {
   "cell_type": "code",
   "execution_count": 33,
   "metadata": {},
   "outputs": [],
   "source": [
    "lf = sfs(estimator= dc, k_features='best', scoring='f1',forward=True).fit(xtrain,ytrain)\n",
    "for_feat = list(lf.k_feature_names_)"
   ]
  },
  {
   "cell_type": "code",
   "execution_count": 34,
   "metadata": {},
   "outputs": [
    {
     "data": {
      "text/plain": [
       "['0', '5', '6', '10']"
      ]
     },
     "execution_count": 34,
     "metadata": {},
     "output_type": "execute_result"
    }
   ],
   "source": [
    "for_feat"
   ]
  },
  {
   "cell_type": "code",
   "execution_count": 37,
   "metadata": {},
   "outputs": [
    {
     "name": "stdout",
     "output_type": "stream",
     "text": [
      "Classification report               precision    recall  f1-score   support\n",
      "\n",
      "           0       0.40      0.38      0.39      1917\n",
      "           1       0.84      0.85      0.84      7318\n",
      "\n",
      "    accuracy                           0.75      9235\n",
      "   macro avg       0.62      0.62      0.62      9235\n",
      "weighted avg       0.75      0.75      0.75      9235\n",
      "\n",
      "accuracy 0.7511640498105036\n",
      "precision [0.39708266 0.83992416]\n",
      "recall score [0.38341158 0.84749932]\n",
      "f1_score [0.39012739 0.84369474]\n"
     ]
    }
   ],
   "source": [
    "x=df[[\"created\",\"eclickrate\",\"avgorder\",\"doorstep\"]]\n",
    "y=df[\"retained\"]\n",
    "xtrain,xtest,ytrain,ytest=train_test_split(x,y,test_size=0.30,random_state=2)\n",
    "model=DecisionTreeClassifier(criterion=\"gini\",random_state=2)\n",
    "model.fit(xtrain,ytrain)\n",
    "ypredfull=model.predict(xtest)\n",
    "print(\"Classification report\",classification_report(ytest,ypredfull))\n",
    "print(\"accuracy\",accuracy_score(ytest,ypredfull))\n",
    "print(\"precision\",precision_score(ytest,ypredfull,average=None))\n",
    "print(\"recall score\",recall_score(ytest,ypredfull,average=None))\n",
    "print(\"f1_score\",f1_score(ytest,ypredfull,average=None))"
   ]
  },
  {
   "cell_type": "code",
   "execution_count": 38,
   "metadata": {},
   "outputs": [
    {
     "name": "stdout",
     "output_type": "stream",
     "text": [
      "specificity 0.38341158059467917\n",
      "sensitivity 0.999838787683379\n",
      "misclassified percentage 14.56896551724138\n",
      "correctclassified percentage 85.43103448275862\n"
     ]
    }
   ],
   "source": [
    "cm=confusion_matrix(ytest,ypredfull)\n",
    "TN=cm[0][0]\n",
    "TP=cm[1][1]\n",
    "FP=cm[0][1]\n",
    "FN=[1][0]\n",
    "total=TN+TP+FP+FN\n",
    "specificity=TN/(TN+FP)\n",
    "sensitivity=TP/(TP+FN)\n",
    "misclassified=((FP+FN)/total)*100\n",
    "correctclassified=((TP+TN)/total)*100\n",
    "print(\"specificity\",specificity)\n",
    "print(\"sensitivity\",sensitivity)\n",
    "print(\"misclassified percentage\",misclassified)\n",
    "print(\"correctclassified percentage\",correctclassified)"
   ]
  },
  {
   "cell_type": "markdown",
   "metadata": {},
   "source": [
    "The feature selected in the RFE,forward,Backward are different features selected\n",
    "Based on the accuracy score we could say that the features selected from the RFE are more significant than the features selected in the Forward and Backward selection"
   ]
  },
  {
   "cell_type": "markdown",
   "metadata": {},
   "source": [
    "# Random Forest"
   ]
  },
  {
   "cell_type": "code",
   "execution_count": 9,
   "metadata": {},
   "outputs": [],
   "source": [
    "x=df.drop(\"retained\",axis=1)\n",
    "y=df[\"retained\"]\n",
    "sc=StandardScaler()\n",
    "scaled=sc.fit_transform(x)\n",
    "xtrain,xtest,ytrain,ytest=train_test_split(scaled,y,test_size=0.3,random_state=2)"
   ]
  },
  {
   "cell_type": "code",
   "execution_count": 10,
   "metadata": {},
   "outputs": [],
   "source": [
    "from sklearn.ensemble import RandomForestClassifier\n",
    "rf=RandomForestClassifier()\n",
    "model=rf.fit(xtrain,ytrain)\n"
   ]
  },
  {
   "cell_type": "code",
   "execution_count": 11,
   "metadata": {},
   "outputs": [],
   "source": [
    "ypred=model.predict(xtest)"
   ]
  },
  {
   "cell_type": "code",
   "execution_count": 12,
   "metadata": {},
   "outputs": [
    {
     "data": {
      "text/plain": [
       "0.9672983216025988"
      ]
     },
     "execution_count": 12,
     "metadata": {},
     "output_type": "execute_result"
    }
   ],
   "source": [
    "accuracy_score(ytest,ypred)"
   ]
  },
  {
   "cell_type": "code",
   "execution_count": 14,
   "metadata": {},
   "outputs": [
    {
     "data": {
      "text/plain": [
       "0.9343210579868021"
      ]
     },
     "execution_count": 14,
     "metadata": {},
     "output_type": "execute_result"
    }
   ],
   "source": [
    "from sklearn.metrics import roc_auc_score\n",
    "roc_auc_score(ytest,ypred)"
   ]
  },
  {
   "cell_type": "markdown",
   "metadata": {},
   "source": [
    "# Randomized search CV"
   ]
  },
  {
   "cell_type": "code",
   "execution_count": 17,
   "metadata": {},
   "outputs": [
    {
     "data": {
      "text/plain": [
       "{'bootstrap': True,\n",
       " 'criterion': 'entropy',\n",
       " 'max_depth': None,\n",
       " 'max_features': 5,\n",
       " 'min_samples_leaf': 8}"
      ]
     },
     "execution_count": 17,
     "metadata": {},
     "output_type": "execute_result"
    }
   ],
   "source": [
    "from sklearn.model_selection import RandomizedSearchCV\n",
    "from scipy.stats import randint\n",
    "estimator=RandomForestClassifier(n_jobs=-1, n_estimators=500)\n",
    "distributions={'max_depth':[3,5,10,None],\n",
    "              'max_features':randint(1,6),\n",
    "               'criterion':['gini','entropy'],\n",
    "               'bootstrap':[True,False],\n",
    "               'min_samples_leaf':randint(1,10)}\n",
    "rf=RandomizedSearchCV(estimator,distributions)\n",
    "rf.fit(xtrain,ytrain)\n",
    "rf.best_params_"
   ]
  },
  {
   "cell_type": "code",
   "execution_count": 12,
   "metadata": {},
   "outputs": [],
   "source": [
    "rf=RandomForestClassifier(bootstrap=True,criterion='entropy',max_depth=None,max_features=5,min_samples_leaf=8)\n",
    "model=rf.fit(xtrain,ytrain)"
   ]
  },
  {
   "cell_type": "code",
   "execution_count": 13,
   "metadata": {},
   "outputs": [
    {
     "name": "stdout",
     "output_type": "stream",
     "text": [
      "Feature: 0, Score: 0.04640\n",
      "Feature: 1, Score: 0.04340\n",
      "Feature: 2, Score: 0.04853\n",
      "Feature: 3, Score: 0.65326\n",
      "Feature: 4, Score: 0.10231\n",
      "Feature: 5, Score: 0.06366\n",
      "Feature: 6, Score: 0.01449\n",
      "Feature: 7, Score: 0.00757\n",
      "Feature: 8, Score: 0.00672\n",
      "Feature: 9, Score: 0.00200\n",
      "Feature: 10, Score: 0.00062\n",
      "Feature: 11, Score: 0.00154\n",
      "Feature: 12, Score: 0.00028\n",
      "Feature: 13, Score: 0.00033\n",
      "Feature: 14, Score: 0.00122\n",
      "Feature: 15, Score: 0.00134\n",
      "Feature: 16, Score: 0.00099\n",
      "Feature: 17, Score: 0.00187\n",
      "Feature: 18, Score: 0.00170\n",
      "Feature: 19, Score: 0.00177\n"
     ]
    },
    {
     "data": {
      "image/png": "[encoded data removed]",
      "text/plain": [
       "<Figure size 432x288 with 1 Axes>"
      ]
     },
     "metadata": {
      "needs_background": "light"
     },
     "output_type": "display_data"
    }
   ],
   "source": [
    "importance = model.feature_importances_\n",
    "# summarize feature importance\n",
    "for i,v in enumerate(importance):\n",
    "    print('Feature: %0d, Score: %.5f' % (i,v))\n",
    "# plot feature importance\n",
    "plt.bar([x for x in range(len(importance))], importance)\n",
    "plt.show()"
   ]
  },
  {
   "cell_type": "code",
   "execution_count": 21,
   "metadata": {},
   "outputs": [
    {
     "name": "stdout",
     "output_type": "stream",
     "text": [
      "Classification report               precision    recall  f1-score   support\n",
      "\n",
      "           0       0.97      0.88      0.92      1917\n",
      "           1       0.97      0.99      0.98      7318\n",
      "\n",
      "    accuracy                           0.97      9235\n",
      "   macro avg       0.97      0.94      0.95      9235\n",
      "weighted avg       0.97      0.97      0.97      9235\n",
      "\n",
      "accuracy 0.9687060097455333\n",
      "precision [0.96674312 0.969163  ]\n",
      "recall score [0.87949922 0.99207434]\n",
      "f1_score [0.92105982 0.98048484]\n"
     ]
    }
   ],
   "source": [
    "ypredfull=model.predict(xtest)\n",
    "print(\"Classification report\",classification_report(ytest,ypredfull))\n",
    "print(\"accuracy\",accuracy_score(ytest,ypredfull))\n",
    "print(\"precision\",precision_score(ytest,ypredfull,average=None))\n",
    "print(\"recall score\",recall_score(ytest,ypredfull,average=None))\n",
    "print(\"f1_score\",f1_score(ytest,ypredfull,average=None))"
   ]
  },
  {
   "cell_type": "code",
   "execution_count": 11,
   "metadata": {},
   "outputs": [
    {
     "data": {
      "text/plain": [
       "array([4.26857422e-02, 4.28066854e-02, 4.58328324e-02, 6.77475971e-01,\n",
       "       9.60711443e-02, 5.44706846e-02, 1.37314195e-02, 7.57644956e-03,\n",
       "       5.27066328e-03, 2.17527710e-03, 5.25590480e-04, 1.63827647e-03,\n",
       "       2.68538581e-04, 3.76994289e-04, 1.14662139e-03, 1.34148695e-03,\n",
       "       9.65768896e-04, 1.75232850e-03, 1.96087460e-03, 1.92665080e-03])"
      ]
     },
     "execution_count": 11,
     "metadata": {},
     "output_type": "execute_result"
    }
   ],
   "source": [
    "model.feature_importances_"
   ]
  },
  {
   "cell_type": "code",
   "execution_count": 22,
   "metadata": {},
   "outputs": [
    {
     "name": "stdout",
     "output_type": "stream",
     "text": [
      "specificity 0.8794992175273866\n",
      "sensitivity 0.9998622779231511\n",
      "misclassified percentage 2.527783830899978\n",
      "correctclassified percentage 97.47221616910002\n"
     ]
    }
   ],
   "source": [
    "cm=confusion_matrix(ytest,ypredfull)\n",
    "TN=cm[0][0]\n",
    "TP=cm[1][1]\n",
    "FP=cm[0][1]\n",
    "FN=[1][0]\n",
    "total=TN+TP+FP+FN\n",
    "specificity=TN/(TN+FP)\n",
    "sensitivity=TP/(TP+FN)\n",
    "misclassified=((FP+FN)/total)*100\n",
    "correctclassified=((TP+TN)/total)*100\n",
    "print(\"specificity\",specificity)\n",
    "print(\"sensitivity\",sensitivity)\n",
    "print(\"misclassified percentage\",misclassified)\n",
    "print(\"correctclassified percentage\",correctclassified)"
   ]
  },
  {
   "cell_type": "code",
   "execution_count": 27,
   "metadata": {},
   "outputs": [
    {
     "data": {
      "text/plain": [
       "{'criterion': 'gini',\n",
       " 'max_depth': None,\n",
       " 'max_features': 5,\n",
       " 'min_samples_leaf': 8}"
      ]
     },
     "execution_count": 27,
     "metadata": {},
     "output_type": "execute_result"
    }
   ],
   "source": [
    "from sklearn.model_selection import RandomizedSearchCV\n",
    "from scipy.stats import randint\n",
    "estimator=DecisionTreeClassifier(random_state=5)\n",
    "distributions={'criterion':['gini','entropy'], \n",
    "             'max_features':randint(1,6), \n",
    "             'max_depth':[3,10,None],\n",
    "             'min_samples_leaf':randint(1,10)}\n",
    "rf=RandomizedSearchCV(estimator,distributions)\n",
    "rf.fit(xtrain,ytrain)\n",
    "rf.best_params_"
   ]
  },
  {
   "cell_type": "code",
   "execution_count": 16,
   "metadata": {},
   "outputs": [
    {
     "name": "stdout",
     "output_type": "stream",
     "text": [
      "Classification report               precision    recall  f1-score   support\n",
      "\n",
      "           0       0.93      0.90      0.92      1917\n",
      "           1       0.97      0.98      0.98      7318\n",
      "\n",
      "    accuracy                           0.97      9235\n",
      "   macro avg       0.95      0.94      0.95      9235\n",
      "weighted avg       0.97      0.97      0.97      9235\n",
      "\n",
      "accuracy 0.965674066053059\n",
      "precision [0.93149946 0.97425823]\n",
      "recall score [0.9008868  0.98264553]\n",
      "f1_score [0.91593742 0.97843391]\n"
     ]
    }
   ],
   "source": [
    "model=DecisionTreeClassifier(criterion=\"gini\",max_depth=None,max_features=5,min_samples_leaf=8,random_state=5)\n",
    "model.fit(xtrain,ytrain)\n",
    "ypredfull=model.predict(xtest)\n",
    "print(\"Classification report\",classification_report(ytest,ypredfull))\n",
    "print(\"accuracy\",accuracy_score(ytest,ypredfull))\n",
    "print(\"precision\",precision_score(ytest,ypredfull,average=None))\n",
    "print(\"recall score\",recall_score(ytest,ypredfull,average=None))\n",
    "print(\"f1_score\",f1_score(ytest,ypredfull,average=None))"
   ]
  },
  {
   "cell_type": "code",
   "execution_count": 17,
   "metadata": {},
   "outputs": [
    {
     "name": "stdout",
     "output_type": "stream",
     "text": [
      "Feature: 0, Score: 0.05351\n",
      "Feature: 1, Score: 0.03090\n",
      "Feature: 2, Score: 0.01638\n",
      "Feature: 3, Score: 0.86743\n",
      "Feature: 4, Score: 0.01534\n",
      "Feature: 5, Score: 0.00391\n",
      "Feature: 6, Score: 0.00411\n",
      "Feature: 7, Score: 0.00292\n",
      "Feature: 8, Score: 0.00055\n",
      "Feature: 9, Score: 0.00026\n",
      "Feature: 10, Score: 0.00000\n",
      "Feature: 11, Score: 0.00084\n",
      "Feature: 12, Score: 0.00002\n",
      "Feature: 13, Score: 0.00045\n",
      "Feature: 14, Score: 0.00072\n",
      "Feature: 15, Score: 0.00042\n",
      "Feature: 16, Score: 0.00009\n",
      "Feature: 17, Score: 0.00124\n",
      "Feature: 18, Score: 0.00054\n",
      "Feature: 19, Score: 0.00037\n"
     ]
    },
    {
     "data": {
      "image/png": "[encoded data removed]",
      "text/plain": [
       "<Figure size 432x288 with 1 Axes>"
      ]
     },
     "metadata": {
      "needs_background": "light"
     },
     "output_type": "display_data"
    }
   ],
   "source": [
    "importance = model.feature_importances_\n",
    "# summarize feature importance\n",
    "for i,v in enumerate(importance):\n",
    "    print('Feature: %0d, Score: %.5f' % (i,v))\n",
    "# plot feature importance\n",
    "plt.bar([x for x in range(len(importance))], importance)\n",
    "plt.show()"
   ]
  },
  {
   "cell_type": "code",
   "execution_count": 29,
   "metadata": {},
   "outputs": [
    {
     "name": "stdout",
     "output_type": "stream",
     "text": [
      "specificity 0.900886802295253\n",
      "sensitivity 0.999860956618465\n",
      "misclassified percentage 2.0968273136458446\n",
      "correctclassified percentage 97.90317268635415\n"
     ]
    }
   ],
   "source": [
    "cm=confusion_matrix(ytest,ypredfull)\n",
    "TN=cm[0][0]\n",
    "TP=cm[1][1]\n",
    "FP=cm[0][1]\n",
    "FN=[1][0]\n",
    "total=TN+TP+FP+FN\n",
    "specificity=TN/(TN+FP)\n",
    "sensitivity=TP/(TP+FN)\n",
    "misclassified=((FP+FN)/total)*100\n",
    "correctclassified=((TP+TN)/total)*100\n",
    "print(\"specificity\",specificity)\n",
    "print(\"sensitivity\",sensitivity)\n",
    "print(\"misclassified percentage\",misclassified)\n",
    "print(\"correctclassified percentage\",correctclassified)"
   ]
  },
  {
   "cell_type": "code",
   "execution_count": null,
   "metadata": {},
   "outputs": [],
   "source": []
  }
 ],
 "metadata": {
  "kernelspec": {
   "display_name": "Python 3",
   "language": "python",
   "name": "python3"
  },
  "language_info": {
   "codemirror_mode": {
    "name": "ipython",
    "version": 3
   },
   "file_extension": ".py",
   "mimetype": "text/x-python",
   "name": "python",
   "nbconvert_exporter": "python",
   "pygments_lexer": "ipython3",
   "version": "3.8.5"
  }
 },
 "nbformat": 4,
 "nbformat_minor": 4
}
